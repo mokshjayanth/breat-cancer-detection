{
  "cells": [
    {
      "cell_type": "code",
      "execution_count": 116,
      "metadata": {
        "execution": {
          "iopub.execute_input": "2021-04-25T14:59:41.921357Z",
          "iopub.status.busy": "2021-04-25T14:59:41.920710Z",
          "iopub.status.idle": "2021-04-25T14:59:43.258213Z",
          "shell.execute_reply": "2021-04-25T14:59:43.257333Z"
        },
        "papermill": {
          "duration": 1.379283,
          "end_time": "2021-04-25T14:59:43.258431",
          "exception": false,
          "start_time": "2021-04-25T14:59:41.879148",
          "status": "completed"
        },
        "tags": [],
        "id": "CDYYfvp7bMqz"
      },
      "outputs": [],
      "source": [
        "import pandas as pd\n",
        "import numpy as np\n",
        "import seaborn as sns\n",
        "import matplotlib.pyplot as plt\n",
        "import warnings\n",
        "warnings.filterwarnings(\"ignore\")\n",
        "\n",
        "# Splitting Data\n",
        "from sklearn.model_selection import train_test_split\n",
        "from sklearn.preprocessing import RobustScaler\n",
        "\n",
        "# Modeling\n",
        "from sklearn.tree import DecisionTreeClassifier\n",
        "from sklearn.neighbors import KNeighborsClassifier\n",
        "from sklearn.ensemble import RandomForestClassifier\n",
        "from sklearn.metrics import accuracy_score, recall_score\n",
        "from sklearn.model_selection import cross_val_score, StratifiedKFold\n",
        "from sklearn.model_selection import GridSearchCV\n",
        "from sklearn.tree import plot_tree"
      ],
      "id": "CDYYfvp7bMqz"
    },
    {
      "cell_type": "code",
      "execution_count": 117,
      "metadata": {
        "execution": {
          "iopub.execute_input": "2021-04-25T14:59:43.319168Z",
          "iopub.status.busy": "2021-04-25T14:59:43.318541Z",
          "iopub.status.idle": "2021-04-25T14:59:43.408965Z",
          "shell.execute_reply": "2021-04-25T14:59:43.409515Z"
        },
        "papermill": {
          "duration": 0.1236,
          "end_time": "2021-04-25T14:59:43.409692",
          "exception": false,
          "start_time": "2021-04-25T14:59:43.286092",
          "status": "completed"
        },
        "tags": [],
        "colab": {
          "base_uri": "https://localhost:8080/",
          "height": 500
        },
        "id": "mmI5eZVPbMq2",
        "outputId": "2546ccd9-afcc-4eb0-cf48-f0abb32001f0"
      },
      "outputs": [
        {
          "output_type": "execute_result",
          "data": {
            "text/html": [
              "\n",
              "  <div id=\"df-2af62b2a-4c63-49c0-a9f0-3f7e5f5acb9a\">\n",
              "    <div class=\"colab-df-container\">\n",
              "      <div>\n",
              "<style scoped>\n",
              "    .dataframe tbody tr th:only-of-type {\n",
              "        vertical-align: middle;\n",
              "    }\n",
              "\n",
              "    .dataframe tbody tr th {\n",
              "        vertical-align: top;\n",
              "    }\n",
              "\n",
              "    .dataframe thead th {\n",
              "        text-align: right;\n",
              "    }\n",
              "</style>\n",
              "<table border=\"1\" class=\"dataframe\">\n",
              "  <thead>\n",
              "    <tr style=\"text-align: right;\">\n",
              "      <th></th>\n",
              "      <th>id</th>\n",
              "      <th>diagnosis</th>\n",
              "      <th>radius_mean</th>\n",
              "      <th>texture_mean</th>\n",
              "      <th>perimeter_mean</th>\n",
              "      <th>area_mean</th>\n",
              "      <th>smoothness_mean</th>\n",
              "      <th>compactness_mean</th>\n",
              "      <th>concavity_mean</th>\n",
              "      <th>concave points_mean</th>\n",
              "      <th>symmetry_mean</th>\n",
              "      <th>fractal_dimension_mean</th>\n",
              "      <th>radius_se</th>\n",
              "      <th>texture_se</th>\n",
              "      <th>perimeter_se</th>\n",
              "      <th>area_se</th>\n",
              "      <th>smoothness_se</th>\n",
              "      <th>compactness_se</th>\n",
              "      <th>concavity_se</th>\n",
              "      <th>concave points_se</th>\n",
              "      <th>symmetry_se</th>\n",
              "      <th>fractal_dimension_se</th>\n",
              "      <th>radius_worst</th>\n",
              "      <th>texture_worst</th>\n",
              "      <th>perimeter_worst</th>\n",
              "      <th>area_worst</th>\n",
              "      <th>smoothness_worst</th>\n",
              "      <th>compactness_worst</th>\n",
              "      <th>concavity_worst</th>\n",
              "      <th>concave points_worst</th>\n",
              "      <th>symmetry_worst</th>\n",
              "      <th>fractal_dimension_worst</th>\n",
              "      <th>Unnamed: 32</th>\n",
              "    </tr>\n",
              "  </thead>\n",
              "  <tbody>\n",
              "    <tr>\n",
              "      <th>0</th>\n",
              "      <td>842302</td>\n",
              "      <td>M</td>\n",
              "      <td>17.99</td>\n",
              "      <td>10.38</td>\n",
              "      <td>122.80</td>\n",
              "      <td>1001.0</td>\n",
              "      <td>0.11840</td>\n",
              "      <td>0.27760</td>\n",
              "      <td>0.30010</td>\n",
              "      <td>0.14710</td>\n",
              "      <td>0.2419</td>\n",
              "      <td>0.07871</td>\n",
              "      <td>1.0950</td>\n",
              "      <td>0.9053</td>\n",
              "      <td>8.589</td>\n",
              "      <td>153.40</td>\n",
              "      <td>0.006399</td>\n",
              "      <td>0.04904</td>\n",
              "      <td>0.05373</td>\n",
              "      <td>0.01587</td>\n",
              "      <td>0.03003</td>\n",
              "      <td>0.006193</td>\n",
              "      <td>25.380</td>\n",
              "      <td>17.33</td>\n",
              "      <td>184.60</td>\n",
              "      <td>2019.0</td>\n",
              "      <td>0.16220</td>\n",
              "      <td>0.66560</td>\n",
              "      <td>0.7119</td>\n",
              "      <td>0.2654</td>\n",
              "      <td>0.4601</td>\n",
              "      <td>0.11890</td>\n",
              "      <td>NaN</td>\n",
              "    </tr>\n",
              "    <tr>\n",
              "      <th>1</th>\n",
              "      <td>842517</td>\n",
              "      <td>M</td>\n",
              "      <td>20.57</td>\n",
              "      <td>17.77</td>\n",
              "      <td>132.90</td>\n",
              "      <td>1326.0</td>\n",
              "      <td>0.08474</td>\n",
              "      <td>0.07864</td>\n",
              "      <td>0.08690</td>\n",
              "      <td>0.07017</td>\n",
              "      <td>0.1812</td>\n",
              "      <td>0.05667</td>\n",
              "      <td>0.5435</td>\n",
              "      <td>0.7339</td>\n",
              "      <td>3.398</td>\n",
              "      <td>74.08</td>\n",
              "      <td>0.005225</td>\n",
              "      <td>0.01308</td>\n",
              "      <td>0.01860</td>\n",
              "      <td>0.01340</td>\n",
              "      <td>0.01389</td>\n",
              "      <td>0.003532</td>\n",
              "      <td>24.990</td>\n",
              "      <td>23.41</td>\n",
              "      <td>158.80</td>\n",
              "      <td>1956.0</td>\n",
              "      <td>0.12380</td>\n",
              "      <td>0.18660</td>\n",
              "      <td>0.2416</td>\n",
              "      <td>0.1860</td>\n",
              "      <td>0.2750</td>\n",
              "      <td>0.08902</td>\n",
              "      <td>NaN</td>\n",
              "    </tr>\n",
              "    <tr>\n",
              "      <th>2</th>\n",
              "      <td>84300903</td>\n",
              "      <td>M</td>\n",
              "      <td>19.69</td>\n",
              "      <td>21.25</td>\n",
              "      <td>130.00</td>\n",
              "      <td>1203.0</td>\n",
              "      <td>0.10960</td>\n",
              "      <td>0.15990</td>\n",
              "      <td>0.19740</td>\n",
              "      <td>0.12790</td>\n",
              "      <td>0.2069</td>\n",
              "      <td>0.05999</td>\n",
              "      <td>0.7456</td>\n",
              "      <td>0.7869</td>\n",
              "      <td>4.585</td>\n",
              "      <td>94.03</td>\n",
              "      <td>0.006150</td>\n",
              "      <td>0.04006</td>\n",
              "      <td>0.03832</td>\n",
              "      <td>0.02058</td>\n",
              "      <td>0.02250</td>\n",
              "      <td>0.004571</td>\n",
              "      <td>23.570</td>\n",
              "      <td>25.53</td>\n",
              "      <td>152.50</td>\n",
              "      <td>1709.0</td>\n",
              "      <td>0.14440</td>\n",
              "      <td>0.42450</td>\n",
              "      <td>0.4504</td>\n",
              "      <td>0.2430</td>\n",
              "      <td>0.3613</td>\n",
              "      <td>0.08758</td>\n",
              "      <td>NaN</td>\n",
              "    </tr>\n",
              "    <tr>\n",
              "      <th>3</th>\n",
              "      <td>84348301</td>\n",
              "      <td>M</td>\n",
              "      <td>11.42</td>\n",
              "      <td>20.38</td>\n",
              "      <td>77.58</td>\n",
              "      <td>386.1</td>\n",
              "      <td>0.14250</td>\n",
              "      <td>0.28390</td>\n",
              "      <td>0.24140</td>\n",
              "      <td>0.10520</td>\n",
              "      <td>0.2597</td>\n",
              "      <td>0.09744</td>\n",
              "      <td>0.4956</td>\n",
              "      <td>1.1560</td>\n",
              "      <td>3.445</td>\n",
              "      <td>27.23</td>\n",
              "      <td>0.009110</td>\n",
              "      <td>0.07458</td>\n",
              "      <td>0.05661</td>\n",
              "      <td>0.01867</td>\n",
              "      <td>0.05963</td>\n",
              "      <td>0.009208</td>\n",
              "      <td>14.910</td>\n",
              "      <td>26.50</td>\n",
              "      <td>98.87</td>\n",
              "      <td>567.7</td>\n",
              "      <td>0.20980</td>\n",
              "      <td>0.86630</td>\n",
              "      <td>0.6869</td>\n",
              "      <td>0.2575</td>\n",
              "      <td>0.6638</td>\n",
              "      <td>0.17300</td>\n",
              "      <td>NaN</td>\n",
              "    </tr>\n",
              "    <tr>\n",
              "      <th>4</th>\n",
              "      <td>84358402</td>\n",
              "      <td>M</td>\n",
              "      <td>20.29</td>\n",
              "      <td>14.34</td>\n",
              "      <td>135.10</td>\n",
              "      <td>1297.0</td>\n",
              "      <td>0.10030</td>\n",
              "      <td>0.13280</td>\n",
              "      <td>0.19800</td>\n",
              "      <td>0.10430</td>\n",
              "      <td>0.1809</td>\n",
              "      <td>0.05883</td>\n",
              "      <td>0.7572</td>\n",
              "      <td>0.7813</td>\n",
              "      <td>5.438</td>\n",
              "      <td>94.44</td>\n",
              "      <td>0.011490</td>\n",
              "      <td>0.02461</td>\n",
              "      <td>0.05688</td>\n",
              "      <td>0.01885</td>\n",
              "      <td>0.01756</td>\n",
              "      <td>0.005115</td>\n",
              "      <td>22.540</td>\n",
              "      <td>16.67</td>\n",
              "      <td>152.20</td>\n",
              "      <td>1575.0</td>\n",
              "      <td>0.13740</td>\n",
              "      <td>0.20500</td>\n",
              "      <td>0.4000</td>\n",
              "      <td>0.1625</td>\n",
              "      <td>0.2364</td>\n",
              "      <td>0.07678</td>\n",
              "      <td>NaN</td>\n",
              "    </tr>\n",
              "    <tr>\n",
              "      <th>...</th>\n",
              "      <td>...</td>\n",
              "      <td>...</td>\n",
              "      <td>...</td>\n",
              "      <td>...</td>\n",
              "      <td>...</td>\n",
              "      <td>...</td>\n",
              "      <td>...</td>\n",
              "      <td>...</td>\n",
              "      <td>...</td>\n",
              "      <td>...</td>\n",
              "      <td>...</td>\n",
              "      <td>...</td>\n",
              "      <td>...</td>\n",
              "      <td>...</td>\n",
              "      <td>...</td>\n",
              "      <td>...</td>\n",
              "      <td>...</td>\n",
              "      <td>...</td>\n",
              "      <td>...</td>\n",
              "      <td>...</td>\n",
              "      <td>...</td>\n",
              "      <td>...</td>\n",
              "      <td>...</td>\n",
              "      <td>...</td>\n",
              "      <td>...</td>\n",
              "      <td>...</td>\n",
              "      <td>...</td>\n",
              "      <td>...</td>\n",
              "      <td>...</td>\n",
              "      <td>...</td>\n",
              "      <td>...</td>\n",
              "      <td>...</td>\n",
              "      <td>...</td>\n",
              "    </tr>\n",
              "    <tr>\n",
              "      <th>564</th>\n",
              "      <td>926424</td>\n",
              "      <td>M</td>\n",
              "      <td>21.56</td>\n",
              "      <td>22.39</td>\n",
              "      <td>142.00</td>\n",
              "      <td>1479.0</td>\n",
              "      <td>0.11100</td>\n",
              "      <td>0.11590</td>\n",
              "      <td>0.24390</td>\n",
              "      <td>0.13890</td>\n",
              "      <td>0.1726</td>\n",
              "      <td>0.05623</td>\n",
              "      <td>1.1760</td>\n",
              "      <td>1.2560</td>\n",
              "      <td>7.673</td>\n",
              "      <td>158.70</td>\n",
              "      <td>0.010300</td>\n",
              "      <td>0.02891</td>\n",
              "      <td>0.05198</td>\n",
              "      <td>0.02454</td>\n",
              "      <td>0.01114</td>\n",
              "      <td>0.004239</td>\n",
              "      <td>25.450</td>\n",
              "      <td>26.40</td>\n",
              "      <td>166.10</td>\n",
              "      <td>2027.0</td>\n",
              "      <td>0.14100</td>\n",
              "      <td>0.21130</td>\n",
              "      <td>0.4107</td>\n",
              "      <td>0.2216</td>\n",
              "      <td>0.2060</td>\n",
              "      <td>0.07115</td>\n",
              "      <td>NaN</td>\n",
              "    </tr>\n",
              "    <tr>\n",
              "      <th>565</th>\n",
              "      <td>926682</td>\n",
              "      <td>M</td>\n",
              "      <td>20.13</td>\n",
              "      <td>28.25</td>\n",
              "      <td>131.20</td>\n",
              "      <td>1261.0</td>\n",
              "      <td>0.09780</td>\n",
              "      <td>0.10340</td>\n",
              "      <td>0.14400</td>\n",
              "      <td>0.09791</td>\n",
              "      <td>0.1752</td>\n",
              "      <td>0.05533</td>\n",
              "      <td>0.7655</td>\n",
              "      <td>2.4630</td>\n",
              "      <td>5.203</td>\n",
              "      <td>99.04</td>\n",
              "      <td>0.005769</td>\n",
              "      <td>0.02423</td>\n",
              "      <td>0.03950</td>\n",
              "      <td>0.01678</td>\n",
              "      <td>0.01898</td>\n",
              "      <td>0.002498</td>\n",
              "      <td>23.690</td>\n",
              "      <td>38.25</td>\n",
              "      <td>155.00</td>\n",
              "      <td>1731.0</td>\n",
              "      <td>0.11660</td>\n",
              "      <td>0.19220</td>\n",
              "      <td>0.3215</td>\n",
              "      <td>0.1628</td>\n",
              "      <td>0.2572</td>\n",
              "      <td>0.06637</td>\n",
              "      <td>NaN</td>\n",
              "    </tr>\n",
              "    <tr>\n",
              "      <th>566</th>\n",
              "      <td>926954</td>\n",
              "      <td>M</td>\n",
              "      <td>16.60</td>\n",
              "      <td>28.08</td>\n",
              "      <td>108.30</td>\n",
              "      <td>858.1</td>\n",
              "      <td>0.08455</td>\n",
              "      <td>0.10230</td>\n",
              "      <td>0.09251</td>\n",
              "      <td>0.05302</td>\n",
              "      <td>0.1590</td>\n",
              "      <td>0.05648</td>\n",
              "      <td>0.4564</td>\n",
              "      <td>1.0750</td>\n",
              "      <td>3.425</td>\n",
              "      <td>48.55</td>\n",
              "      <td>0.005903</td>\n",
              "      <td>0.03731</td>\n",
              "      <td>0.04730</td>\n",
              "      <td>0.01557</td>\n",
              "      <td>0.01318</td>\n",
              "      <td>0.003892</td>\n",
              "      <td>18.980</td>\n",
              "      <td>34.12</td>\n",
              "      <td>126.70</td>\n",
              "      <td>1124.0</td>\n",
              "      <td>0.11390</td>\n",
              "      <td>0.30940</td>\n",
              "      <td>0.3403</td>\n",
              "      <td>0.1418</td>\n",
              "      <td>0.2218</td>\n",
              "      <td>0.07820</td>\n",
              "      <td>NaN</td>\n",
              "    </tr>\n",
              "    <tr>\n",
              "      <th>567</th>\n",
              "      <td>927241</td>\n",
              "      <td>M</td>\n",
              "      <td>20.60</td>\n",
              "      <td>29.33</td>\n",
              "      <td>140.10</td>\n",
              "      <td>1265.0</td>\n",
              "      <td>0.11780</td>\n",
              "      <td>0.27700</td>\n",
              "      <td>0.35140</td>\n",
              "      <td>0.15200</td>\n",
              "      <td>0.2397</td>\n",
              "      <td>0.07016</td>\n",
              "      <td>0.7260</td>\n",
              "      <td>1.5950</td>\n",
              "      <td>5.772</td>\n",
              "      <td>86.22</td>\n",
              "      <td>0.006522</td>\n",
              "      <td>0.06158</td>\n",
              "      <td>0.07117</td>\n",
              "      <td>0.01664</td>\n",
              "      <td>0.02324</td>\n",
              "      <td>0.006185</td>\n",
              "      <td>25.740</td>\n",
              "      <td>39.42</td>\n",
              "      <td>184.60</td>\n",
              "      <td>1821.0</td>\n",
              "      <td>0.16500</td>\n",
              "      <td>0.86810</td>\n",
              "      <td>0.9387</td>\n",
              "      <td>0.2650</td>\n",
              "      <td>0.4087</td>\n",
              "      <td>0.12400</td>\n",
              "      <td>NaN</td>\n",
              "    </tr>\n",
              "    <tr>\n",
              "      <th>568</th>\n",
              "      <td>92751</td>\n",
              "      <td>B</td>\n",
              "      <td>7.76</td>\n",
              "      <td>24.54</td>\n",
              "      <td>47.92</td>\n",
              "      <td>181.0</td>\n",
              "      <td>0.05263</td>\n",
              "      <td>0.04362</td>\n",
              "      <td>0.00000</td>\n",
              "      <td>0.00000</td>\n",
              "      <td>0.1587</td>\n",
              "      <td>0.05884</td>\n",
              "      <td>0.3857</td>\n",
              "      <td>1.4280</td>\n",
              "      <td>2.548</td>\n",
              "      <td>19.15</td>\n",
              "      <td>0.007189</td>\n",
              "      <td>0.00466</td>\n",
              "      <td>0.00000</td>\n",
              "      <td>0.00000</td>\n",
              "      <td>0.02676</td>\n",
              "      <td>0.002783</td>\n",
              "      <td>9.456</td>\n",
              "      <td>30.37</td>\n",
              "      <td>59.16</td>\n",
              "      <td>268.6</td>\n",
              "      <td>0.08996</td>\n",
              "      <td>0.06444</td>\n",
              "      <td>0.0000</td>\n",
              "      <td>0.0000</td>\n",
              "      <td>0.2871</td>\n",
              "      <td>0.07039</td>\n",
              "      <td>NaN</td>\n",
              "    </tr>\n",
              "  </tbody>\n",
              "</table>\n",
              "<p>569 rows × 33 columns</p>\n",
              "</div>\n",
              "      <button class=\"colab-df-convert\" onclick=\"convertToInteractive('df-2af62b2a-4c63-49c0-a9f0-3f7e5f5acb9a')\"\n",
              "              title=\"Convert this dataframe to an interactive table.\"\n",
              "              style=\"display:none;\">\n",
              "        \n",
              "  <svg xmlns=\"http://www.w3.org/2000/svg\" height=\"24px\"viewBox=\"0 0 24 24\"\n",
              "       width=\"24px\">\n",
              "    <path d=\"M0 0h24v24H0V0z\" fill=\"none\"/>\n",
              "    <path d=\"M18.56 5.44l.94 2.06.94-2.06 2.06-.94-2.06-.94-.94-2.06-.94 2.06-2.06.94zm-11 1L8.5 8.5l.94-2.06 2.06-.94-2.06-.94L8.5 2.5l-.94 2.06-2.06.94zm10 10l.94 2.06.94-2.06 2.06-.94-2.06-.94-.94-2.06-.94 2.06-2.06.94z\"/><path d=\"M17.41 7.96l-1.37-1.37c-.4-.4-.92-.59-1.43-.59-.52 0-1.04.2-1.43.59L10.3 9.45l-7.72 7.72c-.78.78-.78 2.05 0 2.83L4 21.41c.39.39.9.59 1.41.59.51 0 1.02-.2 1.41-.59l7.78-7.78 2.81-2.81c.8-.78.8-2.07 0-2.86zM5.41 20L4 18.59l7.72-7.72 1.47 1.35L5.41 20z\"/>\n",
              "  </svg>\n",
              "      </button>\n",
              "      \n",
              "  <style>\n",
              "    .colab-df-container {\n",
              "      display:flex;\n",
              "      flex-wrap:wrap;\n",
              "      gap: 12px;\n",
              "    }\n",
              "\n",
              "    .colab-df-convert {\n",
              "      background-color: #E8F0FE;\n",
              "      border: none;\n",
              "      border-radius: 50%;\n",
              "      cursor: pointer;\n",
              "      display: none;\n",
              "      fill: #1967D2;\n",
              "      height: 32px;\n",
              "      padding: 0 0 0 0;\n",
              "      width: 32px;\n",
              "    }\n",
              "\n",
              "    .colab-df-convert:hover {\n",
              "      background-color: #E2EBFA;\n",
              "      box-shadow: 0px 1px 2px rgba(60, 64, 67, 0.3), 0px 1px 3px 1px rgba(60, 64, 67, 0.15);\n",
              "      fill: #174EA6;\n",
              "    }\n",
              "\n",
              "    [theme=dark] .colab-df-convert {\n",
              "      background-color: #3B4455;\n",
              "      fill: #D2E3FC;\n",
              "    }\n",
              "\n",
              "    [theme=dark] .colab-df-convert:hover {\n",
              "      background-color: #434B5C;\n",
              "      box-shadow: 0px 1px 3px 1px rgba(0, 0, 0, 0.15);\n",
              "      filter: drop-shadow(0px 1px 2px rgba(0, 0, 0, 0.3));\n",
              "      fill: #FFFFFF;\n",
              "    }\n",
              "  </style>\n",
              "\n",
              "      <script>\n",
              "        const buttonEl =\n",
              "          document.querySelector('#df-2af62b2a-4c63-49c0-a9f0-3f7e5f5acb9a button.colab-df-convert');\n",
              "        buttonEl.style.display =\n",
              "          google.colab.kernel.accessAllowed ? 'block' : 'none';\n",
              "\n",
              "        async function convertToInteractive(key) {\n",
              "          const element = document.querySelector('#df-2af62b2a-4c63-49c0-a9f0-3f7e5f5acb9a');\n",
              "          const dataTable =\n",
              "            await google.colab.kernel.invokeFunction('convertToInteractive',\n",
              "                                                     [key], {});\n",
              "          if (!dataTable) return;\n",
              "\n",
              "          const docLinkHtml = 'Like what you see? Visit the ' +\n",
              "            '<a target=\"_blank\" href=https://colab.research.google.com/notebooks/data_table.ipynb>data table notebook</a>'\n",
              "            + ' to learn more about interactive tables.';\n",
              "          element.innerHTML = '';\n",
              "          dataTable['output_type'] = 'display_data';\n",
              "          await google.colab.output.renderOutput(dataTable, element);\n",
              "          const docLink = document.createElement('div');\n",
              "          docLink.innerHTML = docLinkHtml;\n",
              "          element.appendChild(docLink);\n",
              "        }\n",
              "      </script>\n",
              "    </div>\n",
              "  </div>\n",
              "  "
            ],
            "text/plain": [
              "           id diagnosis  ...  fractal_dimension_worst  Unnamed: 32\n",
              "0      842302         M  ...                  0.11890          NaN\n",
              "1      842517         M  ...                  0.08902          NaN\n",
              "2    84300903         M  ...                  0.08758          NaN\n",
              "3    84348301         M  ...                  0.17300          NaN\n",
              "4    84358402         M  ...                  0.07678          NaN\n",
              "..        ...       ...  ...                      ...          ...\n",
              "564    926424         M  ...                  0.07115          NaN\n",
              "565    926682         M  ...                  0.06637          NaN\n",
              "566    926954         M  ...                  0.07820          NaN\n",
              "567    927241         M  ...                  0.12400          NaN\n",
              "568     92751         B  ...                  0.07039          NaN\n",
              "\n",
              "[569 rows x 33 columns]"
            ]
          },
          "metadata": {},
          "execution_count": 117
        }
      ],
      "source": [
        "cancer = pd.read_csv('data.csv')\n",
        "cancer"
      ],
      "id": "mmI5eZVPbMq2"
    },
    {
      "cell_type": "code",
      "execution_count": 118,
      "metadata": {
        "execution": {
          "iopub.execute_input": "2021-04-25T14:59:43.493842Z",
          "iopub.status.busy": "2021-04-25T14:59:43.493092Z",
          "iopub.status.idle": "2021-04-25T14:59:43.496551Z",
          "shell.execute_reply": "2021-04-25T14:59:43.497210Z"
        },
        "papermill": {
          "duration": 0.058955,
          "end_time": "2021-04-25T14:59:43.497425",
          "exception": false,
          "start_time": "2021-04-25T14:59:43.438470",
          "status": "completed"
        },
        "tags": [],
        "colab": {
          "base_uri": "https://localhost:8080/"
        },
        "id": "7RkXT-7bbMq4",
        "outputId": "43dc00fc-1652-47aa-c74d-fb020dd57bc6"
      },
      "outputs": [
        {
          "output_type": "stream",
          "name": "stdout",
          "text": [
            "<class 'pandas.core.frame.DataFrame'>\n",
            "RangeIndex: 569 entries, 0 to 568\n",
            "Data columns (total 33 columns):\n",
            " #   Column                   Non-Null Count  Dtype  \n",
            "---  ------                   --------------  -----  \n",
            " 0   id                       569 non-null    int64  \n",
            " 1   diagnosis                569 non-null    object \n",
            " 2   radius_mean              569 non-null    float64\n",
            " 3   texture_mean             569 non-null    float64\n",
            " 4   perimeter_mean           569 non-null    float64\n",
            " 5   area_mean                569 non-null    float64\n",
            " 6   smoothness_mean          569 non-null    float64\n",
            " 7   compactness_mean         569 non-null    float64\n",
            " 8   concavity_mean           569 non-null    float64\n",
            " 9   concave points_mean      569 non-null    float64\n",
            " 10  symmetry_mean            569 non-null    float64\n",
            " 11  fractal_dimension_mean   569 non-null    float64\n",
            " 12  radius_se                569 non-null    float64\n",
            " 13  texture_se               569 non-null    float64\n",
            " 14  perimeter_se             569 non-null    float64\n",
            " 15  area_se                  569 non-null    float64\n",
            " 16  smoothness_se            569 non-null    float64\n",
            " 17  compactness_se           569 non-null    float64\n",
            " 18  concavity_se             569 non-null    float64\n",
            " 19  concave points_se        569 non-null    float64\n",
            " 20  symmetry_se              569 non-null    float64\n",
            " 21  fractal_dimension_se     569 non-null    float64\n",
            " 22  radius_worst             569 non-null    float64\n",
            " 23  texture_worst            569 non-null    float64\n",
            " 24  perimeter_worst          569 non-null    float64\n",
            " 25  area_worst               569 non-null    float64\n",
            " 26  smoothness_worst         569 non-null    float64\n",
            " 27  compactness_worst        569 non-null    float64\n",
            " 28  concavity_worst          569 non-null    float64\n",
            " 29  concave points_worst     569 non-null    float64\n",
            " 30  symmetry_worst           569 non-null    float64\n",
            " 31  fractal_dimension_worst  569 non-null    float64\n",
            " 32  Unnamed: 32              0 non-null      float64\n",
            "dtypes: float64(31), int64(1), object(1)\n",
            "memory usage: 146.8+ KB\n"
          ]
        }
      ],
      "source": [
        "cancer.info()"
      ],
      "id": "7RkXT-7bbMq4"
    },
    {
      "cell_type": "markdown",
      "metadata": {
        "papermill": {
          "duration": 0.02899,
          "end_time": "2021-04-25T14:59:43.556018",
          "exception": false,
          "start_time": "2021-04-25T14:59:43.527028",
          "status": "completed"
        },
        "tags": [],
        "id": "8E_dUPPYbMq5"
      },
      "source": [
        "**Let's check if the cancer is Malignant or Benign**"
      ],
      "id": "8E_dUPPYbMq5"
    },
    {
      "cell_type": "markdown",
      "metadata": {
        "papermill": {
          "duration": 0.029951,
          "end_time": "2021-04-25T14:59:43.615423",
          "exception": false,
          "start_time": "2021-04-25T14:59:43.585472",
          "status": "completed"
        },
        "tags": [],
        "id": "E_t6h8C_bMq7"
      },
      "source": [
        "# Data Cleaning"
      ],
      "id": "E_t6h8C_bMq7"
    },
    {
      "cell_type": "markdown",
      "metadata": {
        "papermill": {
          "duration": 0.028651,
          "end_time": "2021-04-25T14:59:43.673506",
          "exception": false,
          "start_time": "2021-04-25T14:59:43.644855",
          "status": "completed"
        },
        "tags": [],
        "id": "al-eBUO8bMq7"
      },
      "source": [
        "*Drop Columns*"
      ],
      "id": "al-eBUO8bMq7"
    },
    {
      "cell_type": "code",
      "execution_count": 119,
      "metadata": {
        "execution": {
          "iopub.execute_input": "2021-04-25T14:59:43.735444Z",
          "iopub.status.busy": "2021-04-25T14:59:43.734689Z",
          "iopub.status.idle": "2021-04-25T14:59:43.741073Z",
          "shell.execute_reply": "2021-04-25T14:59:43.741639Z"
        },
        "papermill": {
          "duration": 0.039004,
          "end_time": "2021-04-25T14:59:43.741848",
          "exception": false,
          "start_time": "2021-04-25T14:59:43.702844",
          "status": "completed"
        },
        "tags": [],
        "id": "WsTUu4UYbMq8"
      },
      "outputs": [],
      "source": [
        "cancer.drop(columns=['id', 'Unnamed: 32'], inplace = True)"
      ],
      "id": "WsTUu4UYbMq8"
    },
    {
      "cell_type": "markdown",
      "metadata": {
        "papermill": {
          "duration": 0.029121,
          "end_time": "2021-04-25T14:59:43.801567",
          "exception": false,
          "start_time": "2021-04-25T14:59:43.772446",
          "status": "completed"
        },
        "tags": [],
        "id": "Nt0p15IebMq9"
      },
      "source": [
        "*Missing Value*"
      ],
      "id": "Nt0p15IebMq9"
    },
    {
      "cell_type": "code",
      "execution_count": 120,
      "metadata": {
        "execution": {
          "iopub.execute_input": "2021-04-25T14:59:43.865283Z",
          "iopub.status.busy": "2021-04-25T14:59:43.864631Z",
          "iopub.status.idle": "2021-04-25T14:59:43.894734Z",
          "shell.execute_reply": "2021-04-25T14:59:43.895210Z"
        },
        "papermill": {
          "duration": 0.064184,
          "end_time": "2021-04-25T14:59:43.895427",
          "exception": false,
          "start_time": "2021-04-25T14:59:43.831243",
          "status": "completed"
        },
        "tags": [],
        "colab": {
          "base_uri": "https://localhost:8080/"
        },
        "id": "l5X_AVYObMq-",
        "outputId": "7bbf19b3-63fb-423e-fd01-eaba906958ac"
      },
      "outputs": [
        {
          "output_type": "execute_result",
          "data": {
            "text/plain": [
              "diagnosis                  0.0\n",
              "radius_mean                0.0\n",
              "texture_mean               0.0\n",
              "perimeter_mean             0.0\n",
              "area_mean                  0.0\n",
              "smoothness_mean            0.0\n",
              "compactness_mean           0.0\n",
              "concavity_mean             0.0\n",
              "concave points_mean        0.0\n",
              "symmetry_mean              0.0\n",
              "fractal_dimension_mean     0.0\n",
              "radius_se                  0.0\n",
              "texture_se                 0.0\n",
              "perimeter_se               0.0\n",
              "area_se                    0.0\n",
              "smoothness_se              0.0\n",
              "compactness_se             0.0\n",
              "concavity_se               0.0\n",
              "concave points_se          0.0\n",
              "symmetry_se                0.0\n",
              "fractal_dimension_se       0.0\n",
              "radius_worst               0.0\n",
              "texture_worst              0.0\n",
              "perimeter_worst            0.0\n",
              "area_worst                 0.0\n",
              "smoothness_worst           0.0\n",
              "compactness_worst          0.0\n",
              "concavity_worst            0.0\n",
              "concave points_worst       0.0\n",
              "symmetry_worst             0.0\n",
              "fractal_dimension_worst    0.0\n",
              "dtype: float64"
            ]
          },
          "metadata": {},
          "execution_count": 120
        }
      ],
      "source": [
        "cancer.isna().sum()/len(cancer.index)*100"
      ],
      "id": "l5X_AVYObMq-"
    },
    {
      "cell_type": "markdown",
      "metadata": {
        "papermill": {
          "duration": 0.029673,
          "end_time": "2021-04-25T14:59:43.955270",
          "exception": false,
          "start_time": "2021-04-25T14:59:43.925597",
          "status": "completed"
        },
        "tags": [],
        "id": "7LB4p8eSbMq_"
      },
      "source": [
        "# Final Dataset"
      ],
      "id": "7LB4p8eSbMq_"
    },
    {
      "cell_type": "code",
      "execution_count": 121,
      "metadata": {
        "execution": {
          "iopub.execute_input": "2021-04-25T14:59:44.018888Z",
          "iopub.status.busy": "2021-04-25T14:59:44.018239Z",
          "iopub.status.idle": "2021-04-25T14:59:44.057594Z",
          "shell.execute_reply": "2021-04-25T14:59:44.058064Z"
        },
        "papermill": {
          "duration": 0.072528,
          "end_time": "2021-04-25T14:59:44.058244",
          "exception": false,
          "start_time": "2021-04-25T14:59:43.985716",
          "status": "completed"
        },
        "tags": [],
        "colab": {
          "base_uri": "https://localhost:8080/",
          "height": 500
        },
        "id": "L6a0VwDmbMq_",
        "outputId": "ae772583-f273-4ab3-87c1-234c1707c86d"
      },
      "outputs": [
        {
          "output_type": "execute_result",
          "data": {
            "text/html": [
              "\n",
              "  <div id=\"df-ee74884c-58b6-454d-83b0-a0ae26f02db1\">\n",
              "    <div class=\"colab-df-container\">\n",
              "      <div>\n",
              "<style scoped>\n",
              "    .dataframe tbody tr th:only-of-type {\n",
              "        vertical-align: middle;\n",
              "    }\n",
              "\n",
              "    .dataframe tbody tr th {\n",
              "        vertical-align: top;\n",
              "    }\n",
              "\n",
              "    .dataframe thead th {\n",
              "        text-align: right;\n",
              "    }\n",
              "</style>\n",
              "<table border=\"1\" class=\"dataframe\">\n",
              "  <thead>\n",
              "    <tr style=\"text-align: right;\">\n",
              "      <th></th>\n",
              "      <th>diagnosis</th>\n",
              "      <th>radius_mean</th>\n",
              "      <th>texture_mean</th>\n",
              "      <th>perimeter_mean</th>\n",
              "      <th>area_mean</th>\n",
              "      <th>smoothness_mean</th>\n",
              "      <th>compactness_mean</th>\n",
              "      <th>concavity_mean</th>\n",
              "      <th>concave points_mean</th>\n",
              "      <th>symmetry_mean</th>\n",
              "      <th>fractal_dimension_mean</th>\n",
              "      <th>radius_se</th>\n",
              "      <th>texture_se</th>\n",
              "      <th>perimeter_se</th>\n",
              "      <th>area_se</th>\n",
              "      <th>smoothness_se</th>\n",
              "      <th>compactness_se</th>\n",
              "      <th>concavity_se</th>\n",
              "      <th>concave points_se</th>\n",
              "      <th>symmetry_se</th>\n",
              "      <th>fractal_dimension_se</th>\n",
              "      <th>radius_worst</th>\n",
              "      <th>texture_worst</th>\n",
              "      <th>perimeter_worst</th>\n",
              "      <th>area_worst</th>\n",
              "      <th>smoothness_worst</th>\n",
              "      <th>compactness_worst</th>\n",
              "      <th>concavity_worst</th>\n",
              "      <th>concave points_worst</th>\n",
              "      <th>symmetry_worst</th>\n",
              "      <th>fractal_dimension_worst</th>\n",
              "    </tr>\n",
              "  </thead>\n",
              "  <tbody>\n",
              "    <tr>\n",
              "      <th>0</th>\n",
              "      <td>M</td>\n",
              "      <td>17.99</td>\n",
              "      <td>10.38</td>\n",
              "      <td>122.80</td>\n",
              "      <td>1001.0</td>\n",
              "      <td>0.11840</td>\n",
              "      <td>0.27760</td>\n",
              "      <td>0.30010</td>\n",
              "      <td>0.14710</td>\n",
              "      <td>0.2419</td>\n",
              "      <td>0.07871</td>\n",
              "      <td>1.0950</td>\n",
              "      <td>0.9053</td>\n",
              "      <td>8.589</td>\n",
              "      <td>153.40</td>\n",
              "      <td>0.006399</td>\n",
              "      <td>0.04904</td>\n",
              "      <td>0.05373</td>\n",
              "      <td>0.01587</td>\n",
              "      <td>0.03003</td>\n",
              "      <td>0.006193</td>\n",
              "      <td>25.380</td>\n",
              "      <td>17.33</td>\n",
              "      <td>184.60</td>\n",
              "      <td>2019.0</td>\n",
              "      <td>0.16220</td>\n",
              "      <td>0.66560</td>\n",
              "      <td>0.7119</td>\n",
              "      <td>0.2654</td>\n",
              "      <td>0.4601</td>\n",
              "      <td>0.11890</td>\n",
              "    </tr>\n",
              "    <tr>\n",
              "      <th>1</th>\n",
              "      <td>M</td>\n",
              "      <td>20.57</td>\n",
              "      <td>17.77</td>\n",
              "      <td>132.90</td>\n",
              "      <td>1326.0</td>\n",
              "      <td>0.08474</td>\n",
              "      <td>0.07864</td>\n",
              "      <td>0.08690</td>\n",
              "      <td>0.07017</td>\n",
              "      <td>0.1812</td>\n",
              "      <td>0.05667</td>\n",
              "      <td>0.5435</td>\n",
              "      <td>0.7339</td>\n",
              "      <td>3.398</td>\n",
              "      <td>74.08</td>\n",
              "      <td>0.005225</td>\n",
              "      <td>0.01308</td>\n",
              "      <td>0.01860</td>\n",
              "      <td>0.01340</td>\n",
              "      <td>0.01389</td>\n",
              "      <td>0.003532</td>\n",
              "      <td>24.990</td>\n",
              "      <td>23.41</td>\n",
              "      <td>158.80</td>\n",
              "      <td>1956.0</td>\n",
              "      <td>0.12380</td>\n",
              "      <td>0.18660</td>\n",
              "      <td>0.2416</td>\n",
              "      <td>0.1860</td>\n",
              "      <td>0.2750</td>\n",
              "      <td>0.08902</td>\n",
              "    </tr>\n",
              "    <tr>\n",
              "      <th>2</th>\n",
              "      <td>M</td>\n",
              "      <td>19.69</td>\n",
              "      <td>21.25</td>\n",
              "      <td>130.00</td>\n",
              "      <td>1203.0</td>\n",
              "      <td>0.10960</td>\n",
              "      <td>0.15990</td>\n",
              "      <td>0.19740</td>\n",
              "      <td>0.12790</td>\n",
              "      <td>0.2069</td>\n",
              "      <td>0.05999</td>\n",
              "      <td>0.7456</td>\n",
              "      <td>0.7869</td>\n",
              "      <td>4.585</td>\n",
              "      <td>94.03</td>\n",
              "      <td>0.006150</td>\n",
              "      <td>0.04006</td>\n",
              "      <td>0.03832</td>\n",
              "      <td>0.02058</td>\n",
              "      <td>0.02250</td>\n",
              "      <td>0.004571</td>\n",
              "      <td>23.570</td>\n",
              "      <td>25.53</td>\n",
              "      <td>152.50</td>\n",
              "      <td>1709.0</td>\n",
              "      <td>0.14440</td>\n",
              "      <td>0.42450</td>\n",
              "      <td>0.4504</td>\n",
              "      <td>0.2430</td>\n",
              "      <td>0.3613</td>\n",
              "      <td>0.08758</td>\n",
              "    </tr>\n",
              "    <tr>\n",
              "      <th>3</th>\n",
              "      <td>M</td>\n",
              "      <td>11.42</td>\n",
              "      <td>20.38</td>\n",
              "      <td>77.58</td>\n",
              "      <td>386.1</td>\n",
              "      <td>0.14250</td>\n",
              "      <td>0.28390</td>\n",
              "      <td>0.24140</td>\n",
              "      <td>0.10520</td>\n",
              "      <td>0.2597</td>\n",
              "      <td>0.09744</td>\n",
              "      <td>0.4956</td>\n",
              "      <td>1.1560</td>\n",
              "      <td>3.445</td>\n",
              "      <td>27.23</td>\n",
              "      <td>0.009110</td>\n",
              "      <td>0.07458</td>\n",
              "      <td>0.05661</td>\n",
              "      <td>0.01867</td>\n",
              "      <td>0.05963</td>\n",
              "      <td>0.009208</td>\n",
              "      <td>14.910</td>\n",
              "      <td>26.50</td>\n",
              "      <td>98.87</td>\n",
              "      <td>567.7</td>\n",
              "      <td>0.20980</td>\n",
              "      <td>0.86630</td>\n",
              "      <td>0.6869</td>\n",
              "      <td>0.2575</td>\n",
              "      <td>0.6638</td>\n",
              "      <td>0.17300</td>\n",
              "    </tr>\n",
              "    <tr>\n",
              "      <th>4</th>\n",
              "      <td>M</td>\n",
              "      <td>20.29</td>\n",
              "      <td>14.34</td>\n",
              "      <td>135.10</td>\n",
              "      <td>1297.0</td>\n",
              "      <td>0.10030</td>\n",
              "      <td>0.13280</td>\n",
              "      <td>0.19800</td>\n",
              "      <td>0.10430</td>\n",
              "      <td>0.1809</td>\n",
              "      <td>0.05883</td>\n",
              "      <td>0.7572</td>\n",
              "      <td>0.7813</td>\n",
              "      <td>5.438</td>\n",
              "      <td>94.44</td>\n",
              "      <td>0.011490</td>\n",
              "      <td>0.02461</td>\n",
              "      <td>0.05688</td>\n",
              "      <td>0.01885</td>\n",
              "      <td>0.01756</td>\n",
              "      <td>0.005115</td>\n",
              "      <td>22.540</td>\n",
              "      <td>16.67</td>\n",
              "      <td>152.20</td>\n",
              "      <td>1575.0</td>\n",
              "      <td>0.13740</td>\n",
              "      <td>0.20500</td>\n",
              "      <td>0.4000</td>\n",
              "      <td>0.1625</td>\n",
              "      <td>0.2364</td>\n",
              "      <td>0.07678</td>\n",
              "    </tr>\n",
              "    <tr>\n",
              "      <th>...</th>\n",
              "      <td>...</td>\n",
              "      <td>...</td>\n",
              "      <td>...</td>\n",
              "      <td>...</td>\n",
              "      <td>...</td>\n",
              "      <td>...</td>\n",
              "      <td>...</td>\n",
              "      <td>...</td>\n",
              "      <td>...</td>\n",
              "      <td>...</td>\n",
              "      <td>...</td>\n",
              "      <td>...</td>\n",
              "      <td>...</td>\n",
              "      <td>...</td>\n",
              "      <td>...</td>\n",
              "      <td>...</td>\n",
              "      <td>...</td>\n",
              "      <td>...</td>\n",
              "      <td>...</td>\n",
              "      <td>...</td>\n",
              "      <td>...</td>\n",
              "      <td>...</td>\n",
              "      <td>...</td>\n",
              "      <td>...</td>\n",
              "      <td>...</td>\n",
              "      <td>...</td>\n",
              "      <td>...</td>\n",
              "      <td>...</td>\n",
              "      <td>...</td>\n",
              "      <td>...</td>\n",
              "      <td>...</td>\n",
              "    </tr>\n",
              "    <tr>\n",
              "      <th>564</th>\n",
              "      <td>M</td>\n",
              "      <td>21.56</td>\n",
              "      <td>22.39</td>\n",
              "      <td>142.00</td>\n",
              "      <td>1479.0</td>\n",
              "      <td>0.11100</td>\n",
              "      <td>0.11590</td>\n",
              "      <td>0.24390</td>\n",
              "      <td>0.13890</td>\n",
              "      <td>0.1726</td>\n",
              "      <td>0.05623</td>\n",
              "      <td>1.1760</td>\n",
              "      <td>1.2560</td>\n",
              "      <td>7.673</td>\n",
              "      <td>158.70</td>\n",
              "      <td>0.010300</td>\n",
              "      <td>0.02891</td>\n",
              "      <td>0.05198</td>\n",
              "      <td>0.02454</td>\n",
              "      <td>0.01114</td>\n",
              "      <td>0.004239</td>\n",
              "      <td>25.450</td>\n",
              "      <td>26.40</td>\n",
              "      <td>166.10</td>\n",
              "      <td>2027.0</td>\n",
              "      <td>0.14100</td>\n",
              "      <td>0.21130</td>\n",
              "      <td>0.4107</td>\n",
              "      <td>0.2216</td>\n",
              "      <td>0.2060</td>\n",
              "      <td>0.07115</td>\n",
              "    </tr>\n",
              "    <tr>\n",
              "      <th>565</th>\n",
              "      <td>M</td>\n",
              "      <td>20.13</td>\n",
              "      <td>28.25</td>\n",
              "      <td>131.20</td>\n",
              "      <td>1261.0</td>\n",
              "      <td>0.09780</td>\n",
              "      <td>0.10340</td>\n",
              "      <td>0.14400</td>\n",
              "      <td>0.09791</td>\n",
              "      <td>0.1752</td>\n",
              "      <td>0.05533</td>\n",
              "      <td>0.7655</td>\n",
              "      <td>2.4630</td>\n",
              "      <td>5.203</td>\n",
              "      <td>99.04</td>\n",
              "      <td>0.005769</td>\n",
              "      <td>0.02423</td>\n",
              "      <td>0.03950</td>\n",
              "      <td>0.01678</td>\n",
              "      <td>0.01898</td>\n",
              "      <td>0.002498</td>\n",
              "      <td>23.690</td>\n",
              "      <td>38.25</td>\n",
              "      <td>155.00</td>\n",
              "      <td>1731.0</td>\n",
              "      <td>0.11660</td>\n",
              "      <td>0.19220</td>\n",
              "      <td>0.3215</td>\n",
              "      <td>0.1628</td>\n",
              "      <td>0.2572</td>\n",
              "      <td>0.06637</td>\n",
              "    </tr>\n",
              "    <tr>\n",
              "      <th>566</th>\n",
              "      <td>M</td>\n",
              "      <td>16.60</td>\n",
              "      <td>28.08</td>\n",
              "      <td>108.30</td>\n",
              "      <td>858.1</td>\n",
              "      <td>0.08455</td>\n",
              "      <td>0.10230</td>\n",
              "      <td>0.09251</td>\n",
              "      <td>0.05302</td>\n",
              "      <td>0.1590</td>\n",
              "      <td>0.05648</td>\n",
              "      <td>0.4564</td>\n",
              "      <td>1.0750</td>\n",
              "      <td>3.425</td>\n",
              "      <td>48.55</td>\n",
              "      <td>0.005903</td>\n",
              "      <td>0.03731</td>\n",
              "      <td>0.04730</td>\n",
              "      <td>0.01557</td>\n",
              "      <td>0.01318</td>\n",
              "      <td>0.003892</td>\n",
              "      <td>18.980</td>\n",
              "      <td>34.12</td>\n",
              "      <td>126.70</td>\n",
              "      <td>1124.0</td>\n",
              "      <td>0.11390</td>\n",
              "      <td>0.30940</td>\n",
              "      <td>0.3403</td>\n",
              "      <td>0.1418</td>\n",
              "      <td>0.2218</td>\n",
              "      <td>0.07820</td>\n",
              "    </tr>\n",
              "    <tr>\n",
              "      <th>567</th>\n",
              "      <td>M</td>\n",
              "      <td>20.60</td>\n",
              "      <td>29.33</td>\n",
              "      <td>140.10</td>\n",
              "      <td>1265.0</td>\n",
              "      <td>0.11780</td>\n",
              "      <td>0.27700</td>\n",
              "      <td>0.35140</td>\n",
              "      <td>0.15200</td>\n",
              "      <td>0.2397</td>\n",
              "      <td>0.07016</td>\n",
              "      <td>0.7260</td>\n",
              "      <td>1.5950</td>\n",
              "      <td>5.772</td>\n",
              "      <td>86.22</td>\n",
              "      <td>0.006522</td>\n",
              "      <td>0.06158</td>\n",
              "      <td>0.07117</td>\n",
              "      <td>0.01664</td>\n",
              "      <td>0.02324</td>\n",
              "      <td>0.006185</td>\n",
              "      <td>25.740</td>\n",
              "      <td>39.42</td>\n",
              "      <td>184.60</td>\n",
              "      <td>1821.0</td>\n",
              "      <td>0.16500</td>\n",
              "      <td>0.86810</td>\n",
              "      <td>0.9387</td>\n",
              "      <td>0.2650</td>\n",
              "      <td>0.4087</td>\n",
              "      <td>0.12400</td>\n",
              "    </tr>\n",
              "    <tr>\n",
              "      <th>568</th>\n",
              "      <td>B</td>\n",
              "      <td>7.76</td>\n",
              "      <td>24.54</td>\n",
              "      <td>47.92</td>\n",
              "      <td>181.0</td>\n",
              "      <td>0.05263</td>\n",
              "      <td>0.04362</td>\n",
              "      <td>0.00000</td>\n",
              "      <td>0.00000</td>\n",
              "      <td>0.1587</td>\n",
              "      <td>0.05884</td>\n",
              "      <td>0.3857</td>\n",
              "      <td>1.4280</td>\n",
              "      <td>2.548</td>\n",
              "      <td>19.15</td>\n",
              "      <td>0.007189</td>\n",
              "      <td>0.00466</td>\n",
              "      <td>0.00000</td>\n",
              "      <td>0.00000</td>\n",
              "      <td>0.02676</td>\n",
              "      <td>0.002783</td>\n",
              "      <td>9.456</td>\n",
              "      <td>30.37</td>\n",
              "      <td>59.16</td>\n",
              "      <td>268.6</td>\n",
              "      <td>0.08996</td>\n",
              "      <td>0.06444</td>\n",
              "      <td>0.0000</td>\n",
              "      <td>0.0000</td>\n",
              "      <td>0.2871</td>\n",
              "      <td>0.07039</td>\n",
              "    </tr>\n",
              "  </tbody>\n",
              "</table>\n",
              "<p>569 rows × 31 columns</p>\n",
              "</div>\n",
              "      <button class=\"colab-df-convert\" onclick=\"convertToInteractive('df-ee74884c-58b6-454d-83b0-a0ae26f02db1')\"\n",
              "              title=\"Convert this dataframe to an interactive table.\"\n",
              "              style=\"display:none;\">\n",
              "        \n",
              "  <svg xmlns=\"http://www.w3.org/2000/svg\" height=\"24px\"viewBox=\"0 0 24 24\"\n",
              "       width=\"24px\">\n",
              "    <path d=\"M0 0h24v24H0V0z\" fill=\"none\"/>\n",
              "    <path d=\"M18.56 5.44l.94 2.06.94-2.06 2.06-.94-2.06-.94-.94-2.06-.94 2.06-2.06.94zm-11 1L8.5 8.5l.94-2.06 2.06-.94-2.06-.94L8.5 2.5l-.94 2.06-2.06.94zm10 10l.94 2.06.94-2.06 2.06-.94-2.06-.94-.94-2.06-.94 2.06-2.06.94z\"/><path d=\"M17.41 7.96l-1.37-1.37c-.4-.4-.92-.59-1.43-.59-.52 0-1.04.2-1.43.59L10.3 9.45l-7.72 7.72c-.78.78-.78 2.05 0 2.83L4 21.41c.39.39.9.59 1.41.59.51 0 1.02-.2 1.41-.59l7.78-7.78 2.81-2.81c.8-.78.8-2.07 0-2.86zM5.41 20L4 18.59l7.72-7.72 1.47 1.35L5.41 20z\"/>\n",
              "  </svg>\n",
              "      </button>\n",
              "      \n",
              "  <style>\n",
              "    .colab-df-container {\n",
              "      display:flex;\n",
              "      flex-wrap:wrap;\n",
              "      gap: 12px;\n",
              "    }\n",
              "\n",
              "    .colab-df-convert {\n",
              "      background-color: #E8F0FE;\n",
              "      border: none;\n",
              "      border-radius: 50%;\n",
              "      cursor: pointer;\n",
              "      display: none;\n",
              "      fill: #1967D2;\n",
              "      height: 32px;\n",
              "      padding: 0 0 0 0;\n",
              "      width: 32px;\n",
              "    }\n",
              "\n",
              "    .colab-df-convert:hover {\n",
              "      background-color: #E2EBFA;\n",
              "      box-shadow: 0px 1px 2px rgba(60, 64, 67, 0.3), 0px 1px 3px 1px rgba(60, 64, 67, 0.15);\n",
              "      fill: #174EA6;\n",
              "    }\n",
              "\n",
              "    [theme=dark] .colab-df-convert {\n",
              "      background-color: #3B4455;\n",
              "      fill: #D2E3FC;\n",
              "    }\n",
              "\n",
              "    [theme=dark] .colab-df-convert:hover {\n",
              "      background-color: #434B5C;\n",
              "      box-shadow: 0px 1px 3px 1px rgba(0, 0, 0, 0.15);\n",
              "      filter: drop-shadow(0px 1px 2px rgba(0, 0, 0, 0.3));\n",
              "      fill: #FFFFFF;\n",
              "    }\n",
              "  </style>\n",
              "\n",
              "      <script>\n",
              "        const buttonEl =\n",
              "          document.querySelector('#df-ee74884c-58b6-454d-83b0-a0ae26f02db1 button.colab-df-convert');\n",
              "        buttonEl.style.display =\n",
              "          google.colab.kernel.accessAllowed ? 'block' : 'none';\n",
              "\n",
              "        async function convertToInteractive(key) {\n",
              "          const element = document.querySelector('#df-ee74884c-58b6-454d-83b0-a0ae26f02db1');\n",
              "          const dataTable =\n",
              "            await google.colab.kernel.invokeFunction('convertToInteractive',\n",
              "                                                     [key], {});\n",
              "          if (!dataTable) return;\n",
              "\n",
              "          const docLinkHtml = 'Like what you see? Visit the ' +\n",
              "            '<a target=\"_blank\" href=https://colab.research.google.com/notebooks/data_table.ipynb>data table notebook</a>'\n",
              "            + ' to learn more about interactive tables.';\n",
              "          element.innerHTML = '';\n",
              "          dataTable['output_type'] = 'display_data';\n",
              "          await google.colab.output.renderOutput(dataTable, element);\n",
              "          const docLink = document.createElement('div');\n",
              "          docLink.innerHTML = docLinkHtml;\n",
              "          element.appendChild(docLink);\n",
              "        }\n",
              "      </script>\n",
              "    </div>\n",
              "  </div>\n",
              "  "
            ],
            "text/plain": [
              "    diagnosis  radius_mean  ...  symmetry_worst  fractal_dimension_worst\n",
              "0           M        17.99  ...          0.4601                  0.11890\n",
              "1           M        20.57  ...          0.2750                  0.08902\n",
              "2           M        19.69  ...          0.3613                  0.08758\n",
              "3           M        11.42  ...          0.6638                  0.17300\n",
              "4           M        20.29  ...          0.2364                  0.07678\n",
              "..        ...          ...  ...             ...                      ...\n",
              "564         M        21.56  ...          0.2060                  0.07115\n",
              "565         M        20.13  ...          0.2572                  0.06637\n",
              "566         M        16.60  ...          0.2218                  0.07820\n",
              "567         M        20.60  ...          0.4087                  0.12400\n",
              "568         B         7.76  ...          0.2871                  0.07039\n",
              "\n",
              "[569 rows x 31 columns]"
            ]
          },
          "metadata": {},
          "execution_count": 121
        }
      ],
      "source": [
        "cancer"
      ],
      "id": "L6a0VwDmbMq_"
    },
    {
      "cell_type": "markdown",
      "metadata": {
        "papermill": {
          "duration": 0.030898,
          "end_time": "2021-04-25T14:59:44.120647",
          "exception": false,
          "start_time": "2021-04-25T14:59:44.089749",
          "status": "completed"
        },
        "tags": [],
        "id": "ZzhIZ24-bMrA"
      },
      "source": [
        "# PreProcessing"
      ],
      "id": "ZzhIZ24-bMrA"
    },
    {
      "cell_type": "markdown",
      "metadata": {
        "papermill": {
          "duration": 0.030552,
          "end_time": "2021-04-25T14:59:44.182615",
          "exception": false,
          "start_time": "2021-04-25T14:59:44.152063",
          "status": "completed"
        },
        "tags": [],
        "id": "yTHb8nJmbMrB"
      },
      "source": [
        "### *Define Target Data*\n",
        "* If the cancer is Benign, it will be 0\n",
        "* If the cancer is Malignant, it will be 1"
      ],
      "id": "yTHb8nJmbMrB"
    },
    {
      "cell_type": "code",
      "execution_count": 122,
      "metadata": {
        "execution": {
          "iopub.execute_input": "2021-04-25T14:59:44.248171Z",
          "iopub.status.busy": "2021-04-25T14:59:44.247482Z",
          "iopub.status.idle": "2021-04-25T14:59:44.256542Z",
          "shell.execute_reply": "2021-04-25T14:59:44.257060Z"
        },
        "papermill": {
          "duration": 0.043657,
          "end_time": "2021-04-25T14:59:44.257254",
          "exception": false,
          "start_time": "2021-04-25T14:59:44.213597",
          "status": "completed"
        },
        "tags": [],
        "colab": {
          "base_uri": "https://localhost:8080/"
        },
        "id": "QWkWWOeIbMrB",
        "outputId": "221b16ac-f4b0-4a18-8c8e-94e46c40851b"
      },
      "outputs": [
        {
          "output_type": "execute_result",
          "data": {
            "text/plain": [
              "0    62.741652\n",
              "1    37.258348\n",
              "Name: diagnosis, dtype: float64"
            ]
          },
          "metadata": {},
          "execution_count": 122
        }
      ],
      "source": [
        "cancer['diagnosis'] = np.where(cancer['diagnosis'] == 'M', 1, 0)\n",
        "cancer['diagnosis'].value_counts()/cancer.shape[0]*100"
      ],
      "id": "QWkWWOeIbMrB"
    },
    {
      "cell_type": "markdown",
      "metadata": {
        "papermill": {
          "duration": 0.031927,
          "end_time": "2021-04-25T14:59:44.320940",
          "exception": false,
          "start_time": "2021-04-25T14:59:44.289013",
          "status": "completed"
        },
        "tags": [],
        "id": "eGtalHj4bMrD"
      },
      "source": [
        "* Data is imbalanced."
      ],
      "id": "eGtalHj4bMrD"
    },
    {
      "cell_type": "code",
      "execution_count": 123,
      "metadata": {
        "execution": {
          "iopub.execute_input": "2021-04-25T14:59:44.389361Z",
          "iopub.status.busy": "2021-04-25T14:59:44.388736Z",
          "iopub.status.idle": "2021-04-25T14:59:44.394948Z",
          "shell.execute_reply": "2021-04-25T14:59:44.394409Z"
        },
        "papermill": {
          "duration": 0.041554,
          "end_time": "2021-04-25T14:59:44.395104",
          "exception": false,
          "start_time": "2021-04-25T14:59:44.353550",
          "status": "completed"
        },
        "tags": [],
        "id": "MLMG8l6NbMrE"
      },
      "outputs": [],
      "source": [
        "X = cancer.drop('diagnosis', axis = 1)\n",
        "y = cancer['diagnosis']"
      ],
      "id": "MLMG8l6NbMrE"
    },
    {
      "cell_type": "code",
      "execution_count": 160,
      "metadata": {
        "execution": {
          "iopub.execute_input": "2021-04-25T14:59:44.464794Z",
          "iopub.status.busy": "2021-04-25T14:59:44.464124Z",
          "iopub.status.idle": "2021-04-25T14:59:44.479499Z",
          "shell.execute_reply": "2021-04-25T14:59:44.479969Z"
        },
        "papermill": {
          "duration": 0.053678,
          "end_time": "2021-04-25T14:59:44.480180",
          "exception": false,
          "start_time": "2021-04-25T14:59:44.426502",
          "status": "completed"
        },
        "tags": [],
        "colab": {
          "base_uri": "https://localhost:8080/"
        },
        "id": "mb4g9AWybMrE",
        "outputId": "ef73f6fa-69db-4d55-e644-c4be1d97ba35"
      },
      "outputs": [
        {
          "output_type": "execute_result",
          "data": {
            "text/plain": [
              "pandas.core.frame.DataFrame"
            ]
          },
          "metadata": {},
          "execution_count": 160
        }
      ],
      "source": [
        "robust = RobustScaler()\n",
        "X_scaled = robust.fit_transform(X)"
      ],
      "id": "mb4g9AWybMrE"
    },
    {
      "cell_type": "markdown",
      "metadata": {
        "papermill": {
          "duration": 0.031465,
          "end_time": "2021-04-25T14:59:44.543218",
          "exception": false,
          "start_time": "2021-04-25T14:59:44.511753",
          "status": "completed"
        },
        "tags": [],
        "id": "6aIQWwSLbMrF"
      },
      "source": [
        "* In the case of breast cancer, We want to reduce predictions to people who are misdiagnosed, diagnosed as benign, but it turns out to be malignant, that is, the person we predict is not the default (FN). Evaluation metrics used: **Recall**"
      ],
      "id": "6aIQWwSLbMrF"
    },
    {
      "cell_type": "markdown",
      "metadata": {
        "papermill": {
          "duration": 0.030922,
          "end_time": "2021-04-25T14:59:44.606139",
          "exception": false,
          "start_time": "2021-04-25T14:59:44.575217",
          "status": "completed"
        },
        "tags": [],
        "id": "HOa51S8WbMrG"
      },
      "source": [
        "### *Data Splitting*"
      ],
      "id": "HOa51S8WbMrG"
    },
    {
      "cell_type": "code",
      "execution_count": 125,
      "metadata": {
        "execution": {
          "iopub.execute_input": "2021-04-25T14:59:44.672351Z",
          "iopub.status.busy": "2021-04-25T14:59:44.671749Z",
          "iopub.status.idle": "2021-04-25T14:59:44.676540Z",
          "shell.execute_reply": "2021-04-25T14:59:44.677013Z"
        },
        "papermill": {
          "duration": 0.039675,
          "end_time": "2021-04-25T14:59:44.677198",
          "exception": false,
          "start_time": "2021-04-25T14:59:44.637523",
          "status": "completed"
        },
        "tags": [],
        "colab": {
          "base_uri": "https://localhost:8080/"
        },
        "id": "aY5bt_XTbMrG",
        "outputId": "bec4e68f-89fd-43a8-e8a6-807bafd27202"
      },
      "outputs": [
        {
          "output_type": "execute_result",
          "data": {
            "text/plain": [
              "(569, 30)"
            ]
          },
          "metadata": {},
          "execution_count": 125
        }
      ],
      "source": [
        "X.shape"
      ],
      "id": "aY5bt_XTbMrG"
    },
    {
      "cell_type": "code",
      "execution_count": 126,
      "metadata": {
        "execution": {
          "iopub.execute_input": "2021-04-25T14:59:44.746863Z",
          "iopub.status.busy": "2021-04-25T14:59:44.746188Z",
          "iopub.status.idle": "2021-04-25T14:59:44.752064Z",
          "shell.execute_reply": "2021-04-25T14:59:44.751491Z"
        },
        "papermill": {
          "duration": 0.043351,
          "end_time": "2021-04-25T14:59:44.752218",
          "exception": false,
          "start_time": "2021-04-25T14:59:44.708867",
          "status": "completed"
        },
        "tags": [],
        "id": "H-lEcRGwbMrH"
      },
      "outputs": [],
      "source": [
        "X_train, X_test, y_train, y_test = train_test_split(X_scaled, y,\n",
        "                                                   stratify = y,\n",
        "                                                    test_size = 0.3,\n",
        "                                                   random_state = 3030)"
      ],
      "id": "H-lEcRGwbMrH"
    },
    {
      "cell_type": "markdown",
      "metadata": {
        "papermill": {
          "duration": 0.03179,
          "end_time": "2021-04-25T14:59:44.816241",
          "exception": false,
          "start_time": "2021-04-25T14:59:44.784451",
          "status": "completed"
        },
        "tags": [],
        "id": "s1OUVzrdbMrJ"
      },
      "source": [
        "* We use 0.3 as default score for test_size and X.shape for random_state so the data will be divided equally."
      ],
      "id": "s1OUVzrdbMrJ"
    },
    {
      "cell_type": "markdown",
      "metadata": {
        "papermill": {
          "duration": 0.03287,
          "end_time": "2021-04-25T14:59:44.881322",
          "exception": false,
          "start_time": "2021-04-25T14:59:44.848452",
          "status": "completed"
        },
        "tags": [],
        "id": "7hRvMvZ0bMrJ"
      },
      "source": [
        "# Modeling"
      ],
      "id": "7hRvMvZ0bMrJ"
    },
    {
      "cell_type": "markdown",
      "metadata": {
        "papermill": {
          "duration": 0.031879,
          "end_time": "2021-04-25T14:59:44.945172",
          "exception": false,
          "start_time": "2021-04-25T14:59:44.913293",
          "status": "completed"
        },
        "tags": [],
        "id": "ukZBe3CVbMrK"
      },
      "source": [
        "**KNeighbors Classifier**"
      ],
      "id": "ukZBe3CVbMrK"
    },
    {
      "cell_type": "code",
      "execution_count": 127,
      "metadata": {
        "execution": {
          "iopub.execute_input": "2021-04-25T14:59:45.022337Z",
          "iopub.status.busy": "2021-04-25T14:59:45.020066Z",
          "iopub.status.idle": "2021-04-25T14:59:47.822565Z",
          "shell.execute_reply": "2021-04-25T14:59:47.821645Z"
        },
        "papermill": {
          "duration": 2.844567,
          "end_time": "2021-04-25T14:59:47.822818",
          "exception": false,
          "start_time": "2021-04-25T14:59:44.978251",
          "status": "completed"
        },
        "tags": [],
        "colab": {
          "base_uri": "https://localhost:8080/",
          "height": 282
        },
        "id": "Ov5MIZ1nbMrK",
        "outputId": "d4d14320-d06d-45bf-f5d2-8ceec225ebf2"
      },
      "outputs": [
        {
          "output_type": "execute_result",
          "data": {
            "text/plain": [
              "<matplotlib.legend.Legend at 0x7ff43e33d610>"
            ]
          },
          "metadata": {},
          "execution_count": 127
        },
        {
          "output_type": "display_data",
          "data": {
            "image/png": "[encoded data removed]",
            "text/plain": [
              "<Figure size 432x288 with 1 Axes>"
            ]
          },
          "metadata": {
            "needs_background": "light"
          }
        }
      ],
      "source": [
        "k = range(1,100,2)\n",
        "testing_accuracy = []\n",
        "training_accuracy = []\n",
        "score = 0\n",
        "\n",
        "for i in k:\n",
        "    knn = KNeighborsClassifier(n_neighbors = i)\n",
        "    knn.fit(X_train, y_train)\n",
        "    \n",
        "    y_predict_train = knn.predict(X_train)\n",
        "    training_accuracy.append(accuracy_score(y_train, y_predict_train))\n",
        "    \n",
        "    y_predict_test = knn.predict(X_test)\n",
        "    acc_score = accuracy_score(y_test,y_predict_test)\n",
        "    testing_accuracy.append(acc_score)\n",
        "    \n",
        "    if score < acc_score:\n",
        "        score = acc_score\n",
        "        best_k = i\n",
        "\n",
        "sns.lineplot(k, training_accuracy)\n",
        "sns.scatterplot(k, training_accuracy)\n",
        "sns.lineplot(k, testing_accuracy)\n",
        "sns.scatterplot(k, testing_accuracy)\n",
        "plt.legend(['training accuracy', 'testing accuracy'])"
      ],
      "id": "Ov5MIZ1nbMrK"
    },
    {
      "cell_type": "code",
      "execution_count": 128,
      "metadata": {
        "execution": {
          "iopub.execute_input": "2021-04-25T14:59:47.898215Z",
          "iopub.status.busy": "2021-04-25T14:59:47.897291Z",
          "iopub.status.idle": "2021-04-25T14:59:47.902946Z",
          "shell.execute_reply": "2021-04-25T14:59:47.902433Z"
        },
        "papermill": {
          "duration": 0.04528,
          "end_time": "2021-04-25T14:59:47.903103",
          "exception": false,
          "start_time": "2021-04-25T14:59:47.857823",
          "status": "completed"
        },
        "tags": [],
        "colab": {
          "base_uri": "https://localhost:8080/"
        },
        "id": "69QjuvBZbMrM",
        "outputId": "e2d488d4-7c6b-415a-b2a2-5531effb9ef1"
      },
      "outputs": [
        {
          "output_type": "stream",
          "name": "stdout",
          "text": [
            "This is the best K for KNeighbors Classifier:  3 \n",
            "Accuracy score is:  0.9590643274853801\n"
          ]
        }
      ],
      "source": [
        "print('This is the best K for KNeighbors Classifier: ', best_k, '\\nAccuracy score is: ', score)"
      ],
      "id": "69QjuvBZbMrM"
    },
    {
      "cell_type": "markdown",
      "metadata": {
        "papermill": {
          "duration": 0.033588,
          "end_time": "2021-04-25T14:59:47.970527",
          "exception": false,
          "start_time": "2021-04-25T14:59:47.936939",
          "status": "completed"
        },
        "tags": [],
        "id": "mVfYCWl7bMrM"
      },
      "source": [
        "* This model indicates **underfitting** because training accuracy and testing accuracy are both decreases."
      ],
      "id": "mVfYCWl7bMrM"
    },
    {
      "cell_type": "markdown",
      "metadata": {
        "papermill": {
          "duration": 0.033735,
          "end_time": "2021-04-25T14:59:48.038428",
          "exception": false,
          "start_time": "2021-04-25T14:59:48.004693",
          "status": "completed"
        },
        "tags": [],
        "id": "7QwN70CIbMrN"
      },
      "source": [
        "**Decision Tree Classifier**"
      ],
      "id": "7QwN70CIbMrN"
    },
    {
      "cell_type": "code",
      "execution_count": 129,
      "metadata": {
        "execution": {
          "iopub.execute_input": "2021-04-25T14:59:48.119025Z",
          "iopub.status.busy": "2021-04-25T14:59:48.118323Z",
          "iopub.status.idle": "2021-04-25T14:59:48.565702Z",
          "shell.execute_reply": "2021-04-25T14:59:48.564972Z"
        },
        "papermill": {
          "duration": 0.492171,
          "end_time": "2021-04-25T14:59:48.565874",
          "exception": false,
          "start_time": "2021-04-25T14:59:48.073703",
          "status": "completed"
        },
        "tags": [],
        "colab": {
          "base_uri": "https://localhost:8080/",
          "height": 282
        },
        "id": "XvMU50WMbMrN",
        "outputId": "1e01a516-9fc5-4f99-adb5-c855b9675197"
      },
      "outputs": [
        {
          "output_type": "execute_result",
          "data": {
            "text/plain": [
              "<matplotlib.legend.Legend at 0x7ff43b4ef2d0>"
            ]
          },
          "metadata": {},
          "execution_count": 129
        },
        {
          "output_type": "display_data",
          "data": {
            "image/png": "[encoded data removed]",
            "text/plain": [
              "<Figure size 432x288 with 1 Axes>"
            ]
          },
          "metadata": {
            "needs_background": "light"
          }
        }
      ],
      "source": [
        "depth = range(1,25)\n",
        "testing_accuracy = []\n",
        "training_accuracy = []\n",
        "score = 0\n",
        "\n",
        "for i in depth:\n",
        "    tree = DecisionTreeClassifier(max_depth = i, criterion = 'entropy')\n",
        "    tree.fit(X_train, y_train)\n",
        "    \n",
        "    y_predict_train = tree.predict(X_train)\n",
        "    training_accuracy.append(accuracy_score(y_train, y_predict_train))\n",
        "    \n",
        "    y_predict_test = tree.predict(X_test)\n",
        "    acc_score = accuracy_score(y_test,y_predict_test)\n",
        "    testing_accuracy.append(acc_score)\n",
        "    \n",
        "    if score < acc_score:\n",
        "        score = acc_score\n",
        "        best_depth = i\n",
        "        \n",
        "sns.lineplot(depth, training_accuracy)\n",
        "sns.scatterplot(depth, training_accuracy)\n",
        "sns.lineplot(depth, testing_accuracy)\n",
        "sns.scatterplot(depth, testing_accuracy)\n",
        "plt.legend(['training accuracy', 'testing accuracy'])"
      ],
      "id": "XvMU50WMbMrN"
    },
    {
      "cell_type": "code",
      "execution_count": 130,
      "metadata": {
        "execution": {
          "iopub.execute_input": "2021-04-25T14:59:48.644157Z",
          "iopub.status.busy": "2021-04-25T14:59:48.643421Z",
          "iopub.status.idle": "2021-04-25T14:59:48.647228Z",
          "shell.execute_reply": "2021-04-25T14:59:48.646583Z"
        },
        "papermill": {
          "duration": 0.045103,
          "end_time": "2021-04-25T14:59:48.647411",
          "exception": false,
          "start_time": "2021-04-25T14:59:48.602308",
          "status": "completed"
        },
        "tags": [],
        "colab": {
          "base_uri": "https://localhost:8080/"
        },
        "id": "j-hxL2iebMrP",
        "outputId": "6ce82f6f-4e45-45c9-fa8d-3cdbeea863f9"
      },
      "outputs": [
        {
          "output_type": "stream",
          "name": "stdout",
          "text": [
            "This is the best depth for Decision Tree Classifier:  7 \n",
            "Accuracy score is:  0.9649122807017544\n"
          ]
        }
      ],
      "source": [
        "print('This is the best depth for Decision Tree Classifier: ', best_depth, '\\nAccuracy score is: ', score)"
      ],
      "id": "j-hxL2iebMrP"
    },
    {
      "cell_type": "markdown",
      "metadata": {
        "papermill": {
          "duration": 0.03652,
          "end_time": "2021-04-25T14:59:48.720266",
          "exception": false,
          "start_time": "2021-04-25T14:59:48.683746",
          "status": "completed"
        },
        "tags": [],
        "id": "kM2zUZ2WbMrQ"
      },
      "source": [
        "* This model indicates **overfitting** because training accuracy is good and the testing accuracy is decreased."
      ],
      "id": "kM2zUZ2WbMrQ"
    },
    {
      "cell_type": "markdown",
      "metadata": {
        "id": "-FbfwIfNbMrQ"
      },
      "source": [
        "**Random Forest Classifier**"
      ],
      "id": "-FbfwIfNbMrQ"
    },
    {
      "cell_type": "code",
      "execution_count": 131,
      "metadata": {
        "colab": {
          "base_uri": "https://localhost:8080/",
          "height": 285
        },
        "id": "eqY3PnCXbMrR",
        "outputId": "1f847215-d3f3-4d19-b199-bcc7c2e98843"
      },
      "outputs": [
        {
          "output_type": "execute_result",
          "data": {
            "text/plain": [
              "<matplotlib.legend.Legend at 0x7ff43490fc50>"
            ]
          },
          "metadata": {},
          "execution_count": 131
        },
        {
          "output_type": "display_data",
          "data": {
            "image/png": "[encoded data removed]",
            "text/plain": [
              "<Figure size 432x288 with 1 Axes>"
            ]
          },
          "metadata": {
            "needs_background": "light"
          }
        }
      ],
      "source": [
        "estimator = range(5,100,5)\n",
        "training_accuracy = []\n",
        "testing_accuracy = []\n",
        "score = 0\n",
        "for i in estimator:\n",
        "    forest = RandomForestClassifier(n_estimators = i, max_depth = 3)\n",
        "    forest.fit(X_train, y_train)\n",
        "    \n",
        "    y_predict_train = forest.predict(X_train)\n",
        "    training_accuracy.append(accuracy_score(y_train, y_predict_train))\n",
        "    \n",
        "    y_predict_test = forest.predict(X_test)\n",
        "    acc_score = accuracy_score(y_test, y_predict_test)\n",
        "    testing_accuracy.append(acc_score)\n",
        "    \n",
        "    if score < acc_score:\n",
        "        score = acc_score\n",
        "        best_estimator = i\n",
        "        \n",
        "sns.lineplot(estimator, training_accuracy)\n",
        "sns.scatterplot(estimator, training_accuracy)\n",
        "sns.lineplot(estimator, testing_accuracy)\n",
        "sns.scatterplot(estimator, testing_accuracy)\n",
        "plt.legend(['training accuracy', 'testing accuracy'])       "
      ],
      "id": "eqY3PnCXbMrR"
    },
    {
      "cell_type": "code",
      "execution_count": 132,
      "metadata": {
        "colab": {
          "base_uri": "https://localhost:8080/"
        },
        "id": "q9pRNHOsbMrS",
        "outputId": "3b25a3a9-d3ca-46e0-e337-ef781ce03947"
      },
      "outputs": [
        {
          "output_type": "stream",
          "name": "stdout",
          "text": [
            "This is the best Tree Count for Random Forest Classifier:  30 \n",
            "Accuracy score is:  0.9532163742690059\n"
          ]
        }
      ],
      "source": [
        "print('This is the best Tree Count for Random Forest Classifier: ', best_estimator, '\\nAccuracy score is: ', score)"
      ],
      "id": "q9pRNHOsbMrS"
    },
    {
      "cell_type": "markdown",
      "metadata": {
        "papermill": {
          "duration": 0.036657,
          "end_time": "2021-04-25T14:59:48.793483",
          "exception": false,
          "start_time": "2021-04-25T14:59:48.756826",
          "status": "completed"
        },
        "tags": [],
        "id": "bLa4pKLybMrT"
      },
      "source": [
        "### *Define Model*"
      ],
      "id": "bLa4pKLybMrT"
    },
    {
      "cell_type": "markdown",
      "metadata": {
        "papermill": {
          "duration": 0.036365,
          "end_time": "2021-04-25T14:59:48.866486",
          "exception": false,
          "start_time": "2021-04-25T14:59:48.830121",
          "status": "completed"
        },
        "tags": [],
        "id": "Fw72LA9ebMrT"
      },
      "source": [
        "* We use **KNeighbors Classifier** with best K score and **Decision Tree Classifier** with best depth score."
      ],
      "id": "Fw72LA9ebMrT"
    },
    {
      "cell_type": "code",
      "execution_count": 133,
      "metadata": {
        "execution": {
          "iopub.execute_input": "2021-04-25T14:59:48.947302Z",
          "iopub.status.busy": "2021-04-25T14:59:48.946563Z",
          "iopub.status.idle": "2021-04-25T14:59:48.950082Z",
          "shell.execute_reply": "2021-04-25T14:59:48.949348Z"
        },
        "papermill": {
          "duration": 0.045111,
          "end_time": "2021-04-25T14:59:48.950251",
          "exception": false,
          "start_time": "2021-04-25T14:59:48.905140",
          "status": "completed"
        },
        "tags": [],
        "id": "eMudlotEbMrU"
      },
      "outputs": [],
      "source": [
        "knn = KNeighborsClassifier(n_neighbors = 3)\n",
        "tree = DecisionTreeClassifier(max_depth = 3, random_state = 3030)\n",
        "forest = RandomForestClassifier(max_depth = 3, n_estimators= best_estimator)"
      ],
      "id": "eMudlotEbMrU"
    },
    {
      "cell_type": "code",
      "execution_count": 134,
      "metadata": {
        "execution": {
          "iopub.execute_input": "2021-04-25T14:59:49.045778Z",
          "iopub.status.busy": "2021-04-25T14:59:49.034626Z",
          "iopub.status.idle": "2021-04-25T14:59:49.336714Z",
          "shell.execute_reply": "2021-04-25T14:59:49.337553Z"
        },
        "papermill": {
          "duration": 0.350735,
          "end_time": "2021-04-25T14:59:49.337840",
          "exception": false,
          "start_time": "2021-04-25T14:59:48.987105",
          "status": "completed"
        },
        "tags": [],
        "colab": {
          "base_uri": "https://localhost:8080/",
          "height": 142
        },
        "id": "qn0RCqjbbMrU",
        "outputId": "2ecea100-97d4-4cc1-eb5d-1538ec49ff22"
      },
      "outputs": [
        {
          "output_type": "execute_result",
          "data": {
            "text/html": [
              "\n",
              "  <div id=\"df-56cd9624-221d-4042-80f6-d645fdf36c92\">\n",
              "    <div class=\"colab-df-container\">\n",
              "      <div>\n",
              "<style scoped>\n",
              "    .dataframe tbody tr th:only-of-type {\n",
              "        vertical-align: middle;\n",
              "    }\n",
              "\n",
              "    .dataframe tbody tr th {\n",
              "        vertical-align: top;\n",
              "    }\n",
              "\n",
              "    .dataframe thead th {\n",
              "        text-align: right;\n",
              "    }\n",
              "</style>\n",
              "<table border=\"1\" class=\"dataframe\">\n",
              "  <thead>\n",
              "    <tr style=\"text-align: right;\">\n",
              "      <th></th>\n",
              "      <th>method</th>\n",
              "      <th>cv score</th>\n",
              "      <th>mean score</th>\n",
              "      <th>std score</th>\n",
              "      <th>recall score</th>\n",
              "    </tr>\n",
              "  </thead>\n",
              "  <tbody>\n",
              "    <tr>\n",
              "      <th>0</th>\n",
              "      <td>KNN Classifier</td>\n",
              "      <td>[0.83333, 0.93333, 0.96667, 0.93103, 0.86207]</td>\n",
              "      <td>0.905287</td>\n",
              "      <td>0.049522</td>\n",
              "      <td>0.890625</td>\n",
              "    </tr>\n",
              "    <tr>\n",
              "      <th>1</th>\n",
              "      <td>Decision Tree Classifier</td>\n",
              "      <td>[0.9, 0.93333, 0.73333, 0.93103, 0.86207]</td>\n",
              "      <td>0.871954</td>\n",
              "      <td>0.073970</td>\n",
              "      <td>0.921875</td>\n",
              "    </tr>\n",
              "    <tr>\n",
              "      <th>2</th>\n",
              "      <td>Random Forest Classifier</td>\n",
              "      <td>[0.9, 0.93333, 1.0, 0.93103, 0.82759]</td>\n",
              "      <td>0.918391</td>\n",
              "      <td>0.055905</td>\n",
              "      <td>0.843750</td>\n",
              "    </tr>\n",
              "  </tbody>\n",
              "</table>\n",
              "</div>\n",
              "      <button class=\"colab-df-convert\" onclick=\"convertToInteractive('df-56cd9624-221d-4042-80f6-d645fdf36c92')\"\n",
              "              title=\"Convert this dataframe to an interactive table.\"\n",
              "              style=\"display:none;\">\n",
              "        \n",
              "  <svg xmlns=\"http://www.w3.org/2000/svg\" height=\"24px\"viewBox=\"0 0 24 24\"\n",
              "       width=\"24px\">\n",
              "    <path d=\"M0 0h24v24H0V0z\" fill=\"none\"/>\n",
              "    <path d=\"M18.56 5.44l.94 2.06.94-2.06 2.06-.94-2.06-.94-.94-2.06-.94 2.06-2.06.94zm-11 1L8.5 8.5l.94-2.06 2.06-.94-2.06-.94L8.5 2.5l-.94 2.06-2.06.94zm10 10l.94 2.06.94-2.06 2.06-.94-2.06-.94-.94-2.06-.94 2.06-2.06.94z\"/><path d=\"M17.41 7.96l-1.37-1.37c-.4-.4-.92-.59-1.43-.59-.52 0-1.04.2-1.43.59L10.3 9.45l-7.72 7.72c-.78.78-.78 2.05 0 2.83L4 21.41c.39.39.9.59 1.41.59.51 0 1.02-.2 1.41-.59l7.78-7.78 2.81-2.81c.8-.78.8-2.07 0-2.86zM5.41 20L4 18.59l7.72-7.72 1.47 1.35L5.41 20z\"/>\n",
              "  </svg>\n",
              "      </button>\n",
              "      \n",
              "  <style>\n",
              "    .colab-df-container {\n",
              "      display:flex;\n",
              "      flex-wrap:wrap;\n",
              "      gap: 12px;\n",
              "    }\n",
              "\n",
              "    .colab-df-convert {\n",
              "      background-color: #E8F0FE;\n",
              "      border: none;\n",
              "      border-radius: 50%;\n",
              "      cursor: pointer;\n",
              "      display: none;\n",
              "      fill: #1967D2;\n",
              "      height: 32px;\n",
              "      padding: 0 0 0 0;\n",
              "      width: 32px;\n",
              "    }\n",
              "\n",
              "    .colab-df-convert:hover {\n",
              "      background-color: #E2EBFA;\n",
              "      box-shadow: 0px 1px 2px rgba(60, 64, 67, 0.3), 0px 1px 3px 1px rgba(60, 64, 67, 0.15);\n",
              "      fill: #174EA6;\n",
              "    }\n",
              "\n",
              "    [theme=dark] .colab-df-convert {\n",
              "      background-color: #3B4455;\n",
              "      fill: #D2E3FC;\n",
              "    }\n",
              "\n",
              "    [theme=dark] .colab-df-convert:hover {\n",
              "      background-color: #434B5C;\n",
              "      box-shadow: 0px 1px 3px 1px rgba(0, 0, 0, 0.15);\n",
              "      filter: drop-shadow(0px 1px 2px rgba(0, 0, 0, 0.3));\n",
              "      fill: #FFFFFF;\n",
              "    }\n",
              "  </style>\n",
              "\n",
              "      <script>\n",
              "        const buttonEl =\n",
              "          document.querySelector('#df-56cd9624-221d-4042-80f6-d645fdf36c92 button.colab-df-convert');\n",
              "        buttonEl.style.display =\n",
              "          google.colab.kernel.accessAllowed ? 'block' : 'none';\n",
              "\n",
              "        async function convertToInteractive(key) {\n",
              "          const element = document.querySelector('#df-56cd9624-221d-4042-80f6-d645fdf36c92');\n",
              "          const dataTable =\n",
              "            await google.colab.kernel.invokeFunction('convertToInteractive',\n",
              "                                                     [key], {});\n",
              "          if (!dataTable) return;\n",
              "\n",
              "          const docLinkHtml = 'Like what you see? Visit the ' +\n",
              "            '<a target=\"_blank\" href=https://colab.research.google.com/notebooks/data_table.ipynb>data table notebook</a>'\n",
              "            + ' to learn more about interactive tables.';\n",
              "          element.innerHTML = '';\n",
              "          dataTable['output_type'] = 'display_data';\n",
              "          await google.colab.output.renderOutput(dataTable, element);\n",
              "          const docLink = document.createElement('div');\n",
              "          docLink.innerHTML = docLinkHtml;\n",
              "          element.appendChild(docLink);\n",
              "        }\n",
              "      </script>\n",
              "    </div>\n",
              "  </div>\n",
              "  "
            ],
            "text/plain": [
              "                     method  ... recall score\n",
              "0            KNN Classifier  ...     0.890625\n",
              "1  Decision Tree Classifier  ...     0.921875\n",
              "2  Random Forest Classifier  ...     0.843750\n",
              "\n",
              "[3 rows x 5 columns]"
            ]
          },
          "metadata": {},
          "execution_count": 134
        }
      ],
      "source": [
        "def model_evaluation(model, metric):\n",
        "    model_cv = cross_val_score(model, X_train, y_train, cv = StratifiedKFold(n_splits = 5), scoring = metric)\n",
        "    return model_cv\n",
        "\n",
        "knn_cv = model_evaluation(knn, 'recall')\n",
        "tree_cv = model_evaluation(tree, 'recall')\n",
        "forest_cv = model_evaluation(forest, 'recall')\n",
        "\n",
        "for model in [knn, tree, forest]:\n",
        "    model.fit(X_train, y_train)\n",
        "\n",
        "score_cv = [knn_cv.round(5), tree_cv.round(5), forest_cv.round(5)]\n",
        "score_mean = [knn_cv.mean(), tree_cv.mean(), forest_cv.mean()]\n",
        "score_std = [knn_cv.std(), tree_cv.std(),forest_cv.std()]\n",
        "score_recall_score = [recall_score(y_test, knn.predict(X_test)), \n",
        "            recall_score(y_test, tree.predict(X_test)),\n",
        "                     recall_score(y_test, forest.predict(X_test))]\n",
        "method_name = [ 'KNN Classifier', 'Decision Tree Classifier', 'Random Forest Classifier']\n",
        "cv_summary = pd.DataFrame({\n",
        "    'method': method_name,\n",
        "    'cv score': score_cv,\n",
        "    'mean score': score_mean,\n",
        "    'std score': score_std,\n",
        "    'recall score': score_recall_score\n",
        "})\n",
        "cv_summary"
      ],
      "id": "qn0RCqjbbMrU"
    },
    {
      "cell_type": "markdown",
      "metadata": {
        "papermill": {
          "duration": 0.043064,
          "end_time": "2021-04-25T14:59:49.446859",
          "exception": false,
          "start_time": "2021-04-25T14:59:49.403795",
          "status": "completed"
        },
        "tags": [],
        "id": "67spXMjBbMrV"
      },
      "source": [
        "* From the cross validation and model evaluation processes, we decide to continue with **Decision Tree Classifier** even the score is indicated overfitting. Let's tune the model."
      ],
      "id": "67spXMjBbMrV"
    },
    {
      "cell_type": "markdown",
      "metadata": {
        "papermill": {
          "duration": 0.035971,
          "end_time": "2021-04-25T14:59:49.519276",
          "exception": false,
          "start_time": "2021-04-25T14:59:49.483305",
          "status": "completed"
        },
        "tags": [],
        "id": "ap2rWO2WbMrW"
      },
      "source": [
        "# HyperParam Tuning"
      ],
      "id": "ap2rWO2WbMrW"
    },
    {
      "cell_type": "code",
      "execution_count": 135,
      "metadata": {
        "execution": {
          "iopub.execute_input": "2021-04-25T14:59:49.602591Z",
          "iopub.status.busy": "2021-04-25T14:59:49.601663Z",
          "iopub.status.idle": "2021-04-25T14:59:54.326418Z",
          "shell.execute_reply": "2021-04-25T14:59:54.326981Z"
        },
        "papermill": {
          "duration": 4.771525,
          "end_time": "2021-04-25T14:59:54.327185",
          "exception": false,
          "start_time": "2021-04-25T14:59:49.555660",
          "status": "completed"
        },
        "tags": [],
        "colab": {
          "base_uri": "https://localhost:8080/"
        },
        "id": "YW2OnxySbMrW",
        "outputId": "fe924a33-529c-4f1e-ce43-19f25ca5e246"
      },
      "outputs": [
        {
          "output_type": "stream",
          "name": "stdout",
          "text": [
            "best score 0.9519540229885057\n",
            "best param {'class_weight': 'balanced', 'criterion': 'gini', 'max_depth': 3, 'min_samples_leaf': 15, 'random_state': 3030, 'splitter': 'best'}\n"
          ]
        }
      ],
      "source": [
        "tree = DecisionTreeClassifier(max_depth = 3, random_state = 3030)\n",
        "\n",
        "hyperparam_space = {\n",
        "    'criterion': ['gini', 'entropy'],\n",
        "    'splitter': ['best', 'random'],\n",
        "    'max_depth': [3, 5, 7, 9, 11],\n",
        "    'min_samples_leaf': [3, 9, 13, 15, 17],\n",
        "    'class_weight': ['list', 'dict', 'balanced'],\n",
        "    'random_state': [3030]\n",
        "}\n",
        "\n",
        "grid = GridSearchCV(\n",
        "                tree,\n",
        "                param_grid = hyperparam_space,\n",
        "                cv = StratifiedKFold(n_splits = 5),\n",
        "                scoring = 'recall',\n",
        "                n_jobs = -1)\n",
        "\n",
        "grid.fit(X_train, y_train)\n",
        "\n",
        "print('best score', grid.best_score_)\n",
        "print('best param', grid.best_params_)"
      ],
      "id": "YW2OnxySbMrW"
    },
    {
      "cell_type": "markdown",
      "metadata": {
        "papermill": {
          "duration": 0.039485,
          "end_time": "2021-04-25T14:59:54.404617",
          "exception": false,
          "start_time": "2021-04-25T14:59:54.365132",
          "status": "completed"
        },
        "tags": [],
        "id": "_gDSQF0ybMrX"
      },
      "source": [
        "# Comparison Between Before & After Tuning"
      ],
      "id": "_gDSQF0ybMrX"
    },
    {
      "cell_type": "code",
      "execution_count": 136,
      "metadata": {
        "execution": {
          "iopub.execute_input": "2021-04-25T14:59:54.489570Z",
          "iopub.status.busy": "2021-04-25T14:59:54.488844Z",
          "iopub.status.idle": "2021-04-25T14:59:54.514701Z",
          "shell.execute_reply": "2021-04-25T14:59:54.513989Z"
        },
        "papermill": {
          "duration": 0.071992,
          "end_time": "2021-04-25T14:59:54.514865",
          "exception": false,
          "start_time": "2021-04-25T14:59:54.442873",
          "status": "completed"
        },
        "tags": [],
        "colab": {
          "base_uri": "https://localhost:8080/",
          "height": 111
        },
        "id": "zRzYyhkNbMrX",
        "outputId": "5b29638d-a728-4428-e967-2512927bf240"
      },
      "outputs": [
        {
          "output_type": "execute_result",
          "data": {
            "text/html": [
              "\n",
              "  <div id=\"df-d0340eaf-a97e-406f-a93b-dfbf1766a411\">\n",
              "    <div class=\"colab-df-container\">\n",
              "      <div>\n",
              "<style scoped>\n",
              "    .dataframe tbody tr th:only-of-type {\n",
              "        vertical-align: middle;\n",
              "    }\n",
              "\n",
              "    .dataframe tbody tr th {\n",
              "        vertical-align: top;\n",
              "    }\n",
              "\n",
              "    .dataframe thead th {\n",
              "        text-align: right;\n",
              "    }\n",
              "</style>\n",
              "<table border=\"1\" class=\"dataframe\">\n",
              "  <thead>\n",
              "    <tr style=\"text-align: right;\">\n",
              "      <th></th>\n",
              "      <th>method</th>\n",
              "      <th>score</th>\n",
              "    </tr>\n",
              "  </thead>\n",
              "  <tbody>\n",
              "    <tr>\n",
              "      <th>0</th>\n",
              "      <td>Decision Tree Classifier Before Tuning</td>\n",
              "      <td>0.921875</td>\n",
              "    </tr>\n",
              "    <tr>\n",
              "      <th>1</th>\n",
              "      <td>Decision Tree Classifier After Tuning</td>\n",
              "      <td>0.937500</td>\n",
              "    </tr>\n",
              "  </tbody>\n",
              "</table>\n",
              "</div>\n",
              "      <button class=\"colab-df-convert\" onclick=\"convertToInteractive('df-d0340eaf-a97e-406f-a93b-dfbf1766a411')\"\n",
              "              title=\"Convert this dataframe to an interactive table.\"\n",
              "              style=\"display:none;\">\n",
              "        \n",
              "  <svg xmlns=\"http://www.w3.org/2000/svg\" height=\"24px\"viewBox=\"0 0 24 24\"\n",
              "       width=\"24px\">\n",
              "    <path d=\"M0 0h24v24H0V0z\" fill=\"none\"/>\n",
              "    <path d=\"M18.56 5.44l.94 2.06.94-2.06 2.06-.94-2.06-.94-.94-2.06-.94 2.06-2.06.94zm-11 1L8.5 8.5l.94-2.06 2.06-.94-2.06-.94L8.5 2.5l-.94 2.06-2.06.94zm10 10l.94 2.06.94-2.06 2.06-.94-2.06-.94-.94-2.06-.94 2.06-2.06.94z\"/><path d=\"M17.41 7.96l-1.37-1.37c-.4-.4-.92-.59-1.43-.59-.52 0-1.04.2-1.43.59L10.3 9.45l-7.72 7.72c-.78.78-.78 2.05 0 2.83L4 21.41c.39.39.9.59 1.41.59.51 0 1.02-.2 1.41-.59l7.78-7.78 2.81-2.81c.8-.78.8-2.07 0-2.86zM5.41 20L4 18.59l7.72-7.72 1.47 1.35L5.41 20z\"/>\n",
              "  </svg>\n",
              "      </button>\n",
              "      \n",
              "  <style>\n",
              "    .colab-df-container {\n",
              "      display:flex;\n",
              "      flex-wrap:wrap;\n",
              "      gap: 12px;\n",
              "    }\n",
              "\n",
              "    .colab-df-convert {\n",
              "      background-color: #E8F0FE;\n",
              "      border: none;\n",
              "      border-radius: 50%;\n",
              "      cursor: pointer;\n",
              "      display: none;\n",
              "      fill: #1967D2;\n",
              "      height: 32px;\n",
              "      padding: 0 0 0 0;\n",
              "      width: 32px;\n",
              "    }\n",
              "\n",
              "    .colab-df-convert:hover {\n",
              "      background-color: #E2EBFA;\n",
              "      box-shadow: 0px 1px 2px rgba(60, 64, 67, 0.3), 0px 1px 3px 1px rgba(60, 64, 67, 0.15);\n",
              "      fill: #174EA6;\n",
              "    }\n",
              "\n",
              "    [theme=dark] .colab-df-convert {\n",
              "      background-color: #3B4455;\n",
              "      fill: #D2E3FC;\n",
              "    }\n",
              "\n",
              "    [theme=dark] .colab-df-convert:hover {\n",
              "      background-color: #434B5C;\n",
              "      box-shadow: 0px 1px 3px 1px rgba(0, 0, 0, 0.15);\n",
              "      filter: drop-shadow(0px 1px 2px rgba(0, 0, 0, 0.3));\n",
              "      fill: #FFFFFF;\n",
              "    }\n",
              "  </style>\n",
              "\n",
              "      <script>\n",
              "        const buttonEl =\n",
              "          document.querySelector('#df-d0340eaf-a97e-406f-a93b-dfbf1766a411 button.colab-df-convert');\n",
              "        buttonEl.style.display =\n",
              "          google.colab.kernel.accessAllowed ? 'block' : 'none';\n",
              "\n",
              "        async function convertToInteractive(key) {\n",
              "          const element = document.querySelector('#df-d0340eaf-a97e-406f-a93b-dfbf1766a411');\n",
              "          const dataTable =\n",
              "            await google.colab.kernel.invokeFunction('convertToInteractive',\n",
              "                                                     [key], {});\n",
              "          if (!dataTable) return;\n",
              "\n",
              "          const docLinkHtml = 'Like what you see? Visit the ' +\n",
              "            '<a target=\"_blank\" href=https://colab.research.google.com/notebooks/data_table.ipynb>data table notebook</a>'\n",
              "            + ' to learn more about interactive tables.';\n",
              "          element.innerHTML = '';\n",
              "          dataTable['output_type'] = 'display_data';\n",
              "          await google.colab.output.renderOutput(dataTable, element);\n",
              "          const docLink = document.createElement('div');\n",
              "          docLink.innerHTML = docLinkHtml;\n",
              "          element.appendChild(docLink);\n",
              "        }\n",
              "      </script>\n",
              "    </div>\n",
              "  </div>\n",
              "  "
            ],
            "text/plain": [
              "                                   method     score\n",
              "0  Decision Tree Classifier Before Tuning  0.921875\n",
              "1   Decision Tree Classifier After Tuning  0.937500"
            ]
          },
          "metadata": {},
          "execution_count": 136
        }
      ],
      "source": [
        "tree.fit(X_train, y_train)\n",
        "tree_recall = (recall_score(y_test, tree.predict(X_test)))\n",
        "\n",
        "grid.best_estimator_.fit(X_train, y_train)\n",
        "grid_recall = (recall_score(y_test, grid.predict(X_test)))\n",
        "\n",
        "score_list = [tree_recall, grid_recall]\n",
        "method_name = ['Decision Tree Classifier Before Tuning', 'Decision Tree Classifier After Tuning']\n",
        "best_summary = pd.DataFrame({\n",
        "    'method': method_name,\n",
        "    'score': score_list\n",
        "})\n",
        "best_summary"
      ],
      "id": "zRzYyhkNbMrX"
    },
    {
      "cell_type": "markdown",
      "metadata": {
        "papermill": {
          "duration": 0.038479,
          "end_time": "2021-04-25T14:59:54.592299",
          "exception": false,
          "start_time": "2021-04-25T14:59:54.553820",
          "status": "completed"
        },
        "tags": [],
        "id": "WYMJjY1YbMrY"
      },
      "source": [
        "* This is the comparison between before tuning score and after tuning score using Decision Tree Classifier. **We choose to use Decision Tree Classifier after tuning** score in this section."
      ],
      "id": "WYMJjY1YbMrY"
    },
    {
      "cell_type": "markdown",
      "metadata": {
        "papermill": {
          "duration": 0.037449,
          "end_time": "2021-04-25T14:59:54.668121",
          "exception": false,
          "start_time": "2021-04-25T14:59:54.630672",
          "status": "completed"
        },
        "tags": [],
        "id": "kJRTzFxFbMrZ"
      },
      "source": [
        "# Decision Tree Classifier Plot"
      ],
      "id": "kJRTzFxFbMrZ"
    },
    {
      "cell_type": "code",
      "execution_count": 137,
      "metadata": {
        "execution": {
          "iopub.execute_input": "2021-04-25T14:59:54.771009Z",
          "iopub.status.busy": "2021-04-25T14:59:54.752784Z",
          "iopub.status.idle": "2021-04-25T14:59:55.500076Z",
          "shell.execute_reply": "2021-04-25T14:59:55.499121Z"
        },
        "papermill": {
          "duration": 0.793758,
          "end_time": "2021-04-25T14:59:55.500261",
          "exception": false,
          "start_time": "2021-04-25T14:59:54.706503",
          "status": "completed"
        },
        "tags": [],
        "colab": {
          "base_uri": "https://localhost:8080/",
          "height": 482
        },
        "id": "W1APMS6sbMrZ",
        "outputId": "eadd041f-9232-4bbd-9f4a-5e13fb257ca8"
      },
      "outputs": [
        {
          "output_type": "display_data",
          "data": {
            "image/png": "[encoded data removed]",
            "text/plain": [
              "<Figure size 1080x576 with 1 Axes>"
            ]
          },
          "metadata": {
            "needs_background": "light"
          }
        }
      ],
      "source": [
        "plt.figure(figsize=(15,8))\n",
        "plot_tree(grid.best_estimator_, feature_names = list(X), class_names = ['Benign','Malignant'], filled = True)\n",
        "plt.title('Tree Plot')\n",
        "plt.show()"
      ],
      "id": "W1APMS6sbMrZ"
    },
    {
      "cell_type": "markdown",
      "metadata": {
        "papermill": {
          "duration": 0.041984,
          "end_time": "2021-04-25T14:59:55.585524",
          "exception": false,
          "start_time": "2021-04-25T14:59:55.543540",
          "status": "completed"
        },
        "tags": [],
        "id": "s8s6yWy7bMra"
      },
      "source": [
        "# Feature Importance"
      ],
      "id": "s8s6yWy7bMra"
    },
    {
      "cell_type": "code",
      "execution_count": 138,
      "metadata": {
        "execution": {
          "iopub.execute_input": "2021-04-25T14:59:55.685919Z",
          "iopub.status.busy": "2021-04-25T14:59:55.685120Z",
          "iopub.status.idle": "2021-04-25T14:59:55.690706Z",
          "shell.execute_reply": "2021-04-25T14:59:55.690190Z"
        },
        "papermill": {
          "duration": 0.062944,
          "end_time": "2021-04-25T14:59:55.690848",
          "exception": false,
          "start_time": "2021-04-25T14:59:55.627904",
          "status": "completed"
        },
        "tags": [],
        "colab": {
          "base_uri": "https://localhost:8080/",
          "height": 979
        },
        "id": "oXiNNz6wbMra",
        "outputId": "207034f9-6d60-4e3c-dcd1-2d8b0c02ec52"
      },
      "outputs": [
        {
          "output_type": "execute_result",
          "data": {
            "text/html": [
              "\n",
              "  <div id=\"df-cac7379e-339d-4ef5-a53b-cea6b520923c\">\n",
              "    <div class=\"colab-df-container\">\n",
              "      <div>\n",
              "<style scoped>\n",
              "    .dataframe tbody tr th:only-of-type {\n",
              "        vertical-align: middle;\n",
              "    }\n",
              "\n",
              "    .dataframe tbody tr th {\n",
              "        vertical-align: top;\n",
              "    }\n",
              "\n",
              "    .dataframe thead th {\n",
              "        text-align: right;\n",
              "    }\n",
              "</style>\n",
              "<table border=\"1\" class=\"dataframe\">\n",
              "  <thead>\n",
              "    <tr style=\"text-align: right;\">\n",
              "      <th></th>\n",
              "      <th>imp</th>\n",
              "    </tr>\n",
              "  </thead>\n",
              "  <tbody>\n",
              "    <tr>\n",
              "      <th>concave points_mean</th>\n",
              "      <td>0.894979</td>\n",
              "    </tr>\n",
              "    <tr>\n",
              "      <th>radius_worst</th>\n",
              "      <td>0.057634</td>\n",
              "    </tr>\n",
              "    <tr>\n",
              "      <th>area_worst</th>\n",
              "      <td>0.039847</td>\n",
              "    </tr>\n",
              "    <tr>\n",
              "      <th>area_se</th>\n",
              "      <td>0.006135</td>\n",
              "    </tr>\n",
              "    <tr>\n",
              "      <th>concavity_worst</th>\n",
              "      <td>0.001405</td>\n",
              "    </tr>\n",
              "    <tr>\n",
              "      <th>radius_mean</th>\n",
              "      <td>0.000000</td>\n",
              "    </tr>\n",
              "    <tr>\n",
              "      <th>concavity_se</th>\n",
              "      <td>0.000000</td>\n",
              "    </tr>\n",
              "    <tr>\n",
              "      <th>symmetry_worst</th>\n",
              "      <td>0.000000</td>\n",
              "    </tr>\n",
              "    <tr>\n",
              "      <th>concave points_worst</th>\n",
              "      <td>0.000000</td>\n",
              "    </tr>\n",
              "    <tr>\n",
              "      <th>compactness_worst</th>\n",
              "      <td>0.000000</td>\n",
              "    </tr>\n",
              "    <tr>\n",
              "      <th>smoothness_worst</th>\n",
              "      <td>0.000000</td>\n",
              "    </tr>\n",
              "    <tr>\n",
              "      <th>perimeter_worst</th>\n",
              "      <td>0.000000</td>\n",
              "    </tr>\n",
              "    <tr>\n",
              "      <th>texture_worst</th>\n",
              "      <td>0.000000</td>\n",
              "    </tr>\n",
              "    <tr>\n",
              "      <th>fractal_dimension_se</th>\n",
              "      <td>0.000000</td>\n",
              "    </tr>\n",
              "    <tr>\n",
              "      <th>symmetry_se</th>\n",
              "      <td>0.000000</td>\n",
              "    </tr>\n",
              "    <tr>\n",
              "      <th>concave points_se</th>\n",
              "      <td>0.000000</td>\n",
              "    </tr>\n",
              "    <tr>\n",
              "      <th>compactness_se</th>\n",
              "      <td>0.000000</td>\n",
              "    </tr>\n",
              "    <tr>\n",
              "      <th>texture_mean</th>\n",
              "      <td>0.000000</td>\n",
              "    </tr>\n",
              "    <tr>\n",
              "      <th>smoothness_se</th>\n",
              "      <td>0.000000</td>\n",
              "    </tr>\n",
              "    <tr>\n",
              "      <th>perimeter_se</th>\n",
              "      <td>0.000000</td>\n",
              "    </tr>\n",
              "    <tr>\n",
              "      <th>texture_se</th>\n",
              "      <td>0.000000</td>\n",
              "    </tr>\n",
              "    <tr>\n",
              "      <th>radius_se</th>\n",
              "      <td>0.000000</td>\n",
              "    </tr>\n",
              "    <tr>\n",
              "      <th>fractal_dimension_mean</th>\n",
              "      <td>0.000000</td>\n",
              "    </tr>\n",
              "    <tr>\n",
              "      <th>symmetry_mean</th>\n",
              "      <td>0.000000</td>\n",
              "    </tr>\n",
              "    <tr>\n",
              "      <th>concavity_mean</th>\n",
              "      <td>0.000000</td>\n",
              "    </tr>\n",
              "    <tr>\n",
              "      <th>compactness_mean</th>\n",
              "      <td>0.000000</td>\n",
              "    </tr>\n",
              "    <tr>\n",
              "      <th>smoothness_mean</th>\n",
              "      <td>0.000000</td>\n",
              "    </tr>\n",
              "    <tr>\n",
              "      <th>area_mean</th>\n",
              "      <td>0.000000</td>\n",
              "    </tr>\n",
              "    <tr>\n",
              "      <th>perimeter_mean</th>\n",
              "      <td>0.000000</td>\n",
              "    </tr>\n",
              "    <tr>\n",
              "      <th>fractal_dimension_worst</th>\n",
              "      <td>0.000000</td>\n",
              "    </tr>\n",
              "  </tbody>\n",
              "</table>\n",
              "</div>\n",
              "      <button class=\"colab-df-convert\" onclick=\"convertToInteractive('df-cac7379e-339d-4ef5-a53b-cea6b520923c')\"\n",
              "              title=\"Convert this dataframe to an interactive table.\"\n",
              "              style=\"display:none;\">\n",
              "        \n",
              "  <svg xmlns=\"http://www.w3.org/2000/svg\" height=\"24px\"viewBox=\"0 0 24 24\"\n",
              "       width=\"24px\">\n",
              "    <path d=\"M0 0h24v24H0V0z\" fill=\"none\"/>\n",
              "    <path d=\"M18.56 5.44l.94 2.06.94-2.06 2.06-.94-2.06-.94-.94-2.06-.94 2.06-2.06.94zm-11 1L8.5 8.5l.94-2.06 2.06-.94-2.06-.94L8.5 2.5l-.94 2.06-2.06.94zm10 10l.94 2.06.94-2.06 2.06-.94-2.06-.94-.94-2.06-.94 2.06-2.06.94z\"/><path d=\"M17.41 7.96l-1.37-1.37c-.4-.4-.92-.59-1.43-.59-.52 0-1.04.2-1.43.59L10.3 9.45l-7.72 7.72c-.78.78-.78 2.05 0 2.83L4 21.41c.39.39.9.59 1.41.59.51 0 1.02-.2 1.41-.59l7.78-7.78 2.81-2.81c.8-.78.8-2.07 0-2.86zM5.41 20L4 18.59l7.72-7.72 1.47 1.35L5.41 20z\"/>\n",
              "  </svg>\n",
              "      </button>\n",
              "      \n",
              "  <style>\n",
              "    .colab-df-container {\n",
              "      display:flex;\n",
              "      flex-wrap:wrap;\n",
              "      gap: 12px;\n",
              "    }\n",
              "\n",
              "    .colab-df-convert {\n",
              "      background-color: #E8F0FE;\n",
              "      border: none;\n",
              "      border-radius: 50%;\n",
              "      cursor: pointer;\n",
              "      display: none;\n",
              "      fill: #1967D2;\n",
              "      height: 32px;\n",
              "      padding: 0 0 0 0;\n",
              "      width: 32px;\n",
              "    }\n",
              "\n",
              "    .colab-df-convert:hover {\n",
              "      background-color: #E2EBFA;\n",
              "      box-shadow: 0px 1px 2px rgba(60, 64, 67, 0.3), 0px 1px 3px 1px rgba(60, 64, 67, 0.15);\n",
              "      fill: #174EA6;\n",
              "    }\n",
              "\n",
              "    [theme=dark] .colab-df-convert {\n",
              "      background-color: #3B4455;\n",
              "      fill: #D2E3FC;\n",
              "    }\n",
              "\n",
              "    [theme=dark] .colab-df-convert:hover {\n",
              "      background-color: #434B5C;\n",
              "      box-shadow: 0px 1px 3px 1px rgba(0, 0, 0, 0.15);\n",
              "      filter: drop-shadow(0px 1px 2px rgba(0, 0, 0, 0.3));\n",
              "      fill: #FFFFFF;\n",
              "    }\n",
              "  </style>\n",
              "\n",
              "      <script>\n",
              "        const buttonEl =\n",
              "          document.querySelector('#df-cac7379e-339d-4ef5-a53b-cea6b520923c button.colab-df-convert');\n",
              "        buttonEl.style.display =\n",
              "          google.colab.kernel.accessAllowed ? 'block' : 'none';\n",
              "\n",
              "        async function convertToInteractive(key) {\n",
              "          const element = document.querySelector('#df-cac7379e-339d-4ef5-a53b-cea6b520923c');\n",
              "          const dataTable =\n",
              "            await google.colab.kernel.invokeFunction('convertToInteractive',\n",
              "                                                     [key], {});\n",
              "          if (!dataTable) return;\n",
              "\n",
              "          const docLinkHtml = 'Like what you see? Visit the ' +\n",
              "            '<a target=\"_blank\" href=https://colab.research.google.com/notebooks/data_table.ipynb>data table notebook</a>'\n",
              "            + ' to learn more about interactive tables.';\n",
              "          element.innerHTML = '';\n",
              "          dataTable['output_type'] = 'display_data';\n",
              "          await google.colab.output.renderOutput(dataTable, element);\n",
              "          const docLink = document.createElement('div');\n",
              "          docLink.innerHTML = docLinkHtml;\n",
              "          element.appendChild(docLink);\n",
              "        }\n",
              "      </script>\n",
              "    </div>\n",
              "  </div>\n",
              "  "
            ],
            "text/plain": [
              "                              imp\n",
              "concave points_mean      0.894979\n",
              "radius_worst             0.057634\n",
              "area_worst               0.039847\n",
              "area_se                  0.006135\n",
              "concavity_worst          0.001405\n",
              "radius_mean              0.000000\n",
              "concavity_se             0.000000\n",
              "symmetry_worst           0.000000\n",
              "concave points_worst     0.000000\n",
              "compactness_worst        0.000000\n",
              "smoothness_worst         0.000000\n",
              "perimeter_worst          0.000000\n",
              "texture_worst            0.000000\n",
              "fractal_dimension_se     0.000000\n",
              "symmetry_se              0.000000\n",
              "concave points_se        0.000000\n",
              "compactness_se           0.000000\n",
              "texture_mean             0.000000\n",
              "smoothness_se            0.000000\n",
              "perimeter_se             0.000000\n",
              "texture_se               0.000000\n",
              "radius_se                0.000000\n",
              "fractal_dimension_mean   0.000000\n",
              "symmetry_mean            0.000000\n",
              "concavity_mean           0.000000\n",
              "compactness_mean         0.000000\n",
              "smoothness_mean          0.000000\n",
              "area_mean                0.000000\n",
              "perimeter_mean           0.000000\n",
              "fractal_dimension_worst  0.000000"
            ]
          },
          "metadata": {},
          "execution_count": 138
        }
      ],
      "source": [
        "importance_table = pd.DataFrame({\n",
        "    'imp': grid.best_estimator_.feature_importances_\n",
        "}, index = X.columns)\n",
        "importance_table.sort_values('imp', ascending = False)"
      ],
      "id": "oXiNNz6wbMra"
    },
    {
      "cell_type": "code",
      "execution_count": 139,
      "metadata": {
        "execution": {
          "iopub.execute_input": "2021-04-25T14:59:55.784750Z",
          "iopub.status.busy": "2021-04-25T14:59:55.784010Z",
          "iopub.status.idle": "2021-04-25T14:59:56.215285Z",
          "shell.execute_reply": "2021-04-25T14:59:56.214588Z"
        },
        "papermill": {
          "duration": 0.481928,
          "end_time": "2021-04-25T14:59:56.215446",
          "exception": false,
          "start_time": "2021-04-25T14:59:55.733518",
          "status": "completed"
        },
        "tags": [],
        "colab": {
          "base_uri": "https://localhost:8080/",
          "height": 500
        },
        "id": "uKKZTf68bMrb",
        "outputId": "861752a4-8590-48fd-b8c6-702af7a2c6eb"
      },
      "outputs": [
        {
          "output_type": "execute_result",
          "data": {
            "text/plain": [
              "<matplotlib.axes._subplots.AxesSubplot at 0x7ff4347a9c90>"
            ]
          },
          "metadata": {},
          "execution_count": 139
        },
        {
          "output_type": "display_data",
          "data": {
            "image/png": "[encoded data removed]",
            "text/plain": [
              "<Figure size 1080x576 with 1 Axes>"
            ]
          },
          "metadata": {
            "needs_background": "light"
          }
        }
      ],
      "source": [
        "importance_table.sort_values('imp', ascending = True).plot(kind = 'barh', figsize = (15,8))"
      ],
      "id": "uKKZTf68bMrb"
    },
    {
      "cell_type": "markdown",
      "metadata": {
        "papermill": {
          "duration": 0.042618,
          "end_time": "2021-04-25T14:59:56.300980",
          "exception": false,
          "start_time": "2021-04-25T14:59:56.258362",
          "status": "completed"
        },
        "tags": [],
        "id": "7UsjgKjWbMrc"
      },
      "source": [
        "* The results suggest perhaps 4 of the 30 features as being important to prediction."
      ],
      "id": "7UsjgKjWbMrc"
    },
    {
      "cell_type": "markdown",
      "source": [
        "# Deploying the Final Tree Model for Produciton"
      ],
      "metadata": {
        "id": "-_MqDN6RyPe3"
      },
      "id": "-_MqDN6RyPe3"
    },
    {
      "cell_type": "code",
      "source": [
        "X = cancer[['concave points_mean','radius_worst', 'area_worst', 'area_se']]\n",
        "y = cancer['diagnosis']"
      ],
      "metadata": {
        "id": "XqV07UIue0V9"
      },
      "id": "XqV07UIue0V9",
      "execution_count": 184,
      "outputs": []
    },
    {
      "cell_type": "code",
      "source": [
        "robust = RobustScaler()\n",
        "X_scaled = robust.fit_transform(X)\n",
        "X_train, X_test, y_train, y_test = train_test_split(X_scaled, y,\n",
        "                                                   stratify = y,\n",
        "                                                    test_size = 0.3,\n",
        "                                                   random_state = 3030)"
      ],
      "metadata": {
        "id": "YY59LDbfme6f"
      },
      "id": "YY59LDbfme6f",
      "execution_count": 185,
      "outputs": []
    },
    {
      "cell_type": "code",
      "source": [
        "grid.fit(X_train, y_train)"
      ],
      "metadata": {
        "colab": {
          "base_uri": "https://localhost:8080/"
        },
        "id": "Spdz7iW6oxKq",
        "outputId": "767529c4-1d43-4c95-b062-c50055611b16"
      },
      "id": "Spdz7iW6oxKq",
      "execution_count": 186,
      "outputs": [
        {
          "output_type": "execute_result",
          "data": {
            "text/plain": [
              "GridSearchCV(cv=StratifiedKFold(n_splits=5, random_state=None, shuffle=False),\n",
              "             estimator=DecisionTreeClassifier(max_depth=3, random_state=3030),\n",
              "             n_jobs=-1,\n",
              "             param_grid={'class_weight': ['list', 'dict', 'balanced'],\n",
              "                         'criterion': ['gini', 'entropy'],\n",
              "                         'max_depth': [3, 5, 7, 9, 11],\n",
              "                         'min_samples_leaf': [3, 9, 13, 15, 17],\n",
              "                         'random_state': [3030],\n",
              "                         'splitter': ['best', 'random']},\n",
              "             scoring='recall')"
            ]
          },
          "metadata": {},
          "execution_count": 186
        }
      ]
    },
    {
      "cell_type": "code",
      "execution_count": 187,
      "metadata": {
        "id": "7DG6ouBmbMre"
      },
      "outputs": [],
      "source": [
        "def predict(concave_points_mean,radius_worst, area_worst, area_se):\n",
        "  scaled = robust.transform([[concave_points_mean,radius_worst, area_worst, area_se]])\n",
        "  print(scaled)\n",
        "  result = grid.predict(scaled)\n",
        "  print(result)\n",
        "  if(result[0]==0):\n",
        "    return \"The Tumor is Benign (noncancerous).\"\n",
        "  else: \n",
        "    return \"The Tumor is Malignant (cancerous).\"\n"
      ],
      "id": "7DG6ouBmbMre"
    },
    {
      "cell_type": "code",
      "source": [
        "!pip install -q gradio"
      ],
      "metadata": {
        "id": "XgwZFUu_bkPM"
      },
      "id": "XgwZFUu_bkPM",
      "execution_count": 144,
      "outputs": []
    },
    {
      "cell_type": "code",
      "source": [
        "import gradio as gr\n",
        "\n",
        "iface = gr.Interface(\n",
        "  fn=predict, \n",
        "  inputs=[\"number\", \"number\", \"number\", \"number\"],\n",
        "  outputs=[\"text\"])\n",
        "iface.launch()\n",
        "\n",
        "# SAMPLE TEST VALUES:\n",
        "# 0.09498 \t27.32 \t2398.0   112.40 -> Malignant\n",
        "# 0.10520 \t14.91 \t567.7\t  27.23 -> Benign"
      ],
      "metadata": {
        "colab": {
          "base_uri": "https://localhost:8080/",
          "height": 640
        },
        "id": "2uP7njFzbuPm",
        "outputId": "5fc3c1ec-d470-468a-bdc0-696bb679cda5"
      },
      "id": "2uP7njFzbuPm",
      "execution_count": 188,
      "outputs": [
        {
          "output_type": "stream",
          "name": "stdout",
          "text": [
            "Colab notebook detected. To show errors in colab notebook, set `debug=True` in `launch()`\n",
            "Running on public URL: https://15043.gradio.app\n",
            "\n",
            "This share link expires in 72 hours. For free permanent hosting, check out Spaces (https://huggingface.co/spaces)\n"
          ]
        },
        {
          "output_type": "display_data",
          "data": {
            "text/html": [
              "\n",
              "        <iframe\n",
              "            width=\"900\"\n",
              "            height=\"500\"\n",
              "            src=\"https://15043.gradio.app\"\n",
              "            frameborder=\"0\"\n",
              "            allowfullscreen\n",
              "        ></iframe>\n",
              "        "
            ],
            "text/plain": [
              "<IPython.lib.display.IFrame at 0x7ff4369ace50>"
            ]
          },
          "metadata": {}
        },
        {
          "output_type": "execute_result",
          "data": {
            "text/plain": [
              "(<fastapi.applications.FastAPI at 0x7ff464ee5050>,\n",
              " 'http://127.0.0.1:7868/',\n",
              " 'https://15043.gradio.app')"
            ]
          },
          "metadata": {},
          "execution_count": 188
        }
      ]
    },
    {
      "cell_type": "markdown",
      "metadata": {
        "papermill": {
          "duration": 0.04457,
          "end_time": "2021-04-25T14:59:56.388732",
          "exception": false,
          "start_time": "2021-04-25T14:59:56.344162",
          "status": "completed"
        },
        "tags": [],
        "id": "d18TXMTQbMrd"
      },
      "source": [
        "# Summary"
      ],
      "id": "d18TXMTQbMrd"
    },
    {
      "cell_type": "markdown",
      "metadata": {
        "papermill": {
          "duration": 0.048998,
          "end_time": "2021-04-25T14:59:56.481817",
          "exception": false,
          "start_time": "2021-04-25T14:59:56.432819",
          "status": "completed"
        },
        "tags": [],
        "id": "Lmp1odVLbMrd"
      },
      "source": [
        "- In the first step, we did **scaling at X data using Robust Scaler** because we believe there are so many outliers.\n",
        "- We only used **KNeighbor Classifier (KNN),the Decision Tree Classifier (Tree) and Random Forest Classifier (Forest)** in this prediction. We try to find the best K score, best depth and best estimator for each model and see how the training and testing data perform on the models.\n",
        "- From the cross-validation process, the KNN model has the highest score with 0.9 but after model evaluation using recall metric, the **Tree model has the highest score with 0.92**. Even the Tree model **indicated overfitting**, we still choose to use this score to continue the process.\n",
        "- We decide to get the best parameter for the Tree model by Tuning with the best score of 0.95 which is increasing, then compare the Tree model score before and after tuning. The comparison results prove that the **Tree model after the Tuning process is higher than before with 0.9375**.\n",
        "- We checked again to see the data using the Feature Importance process. Surprisingly, from 30 features (columns), **only 4 features that is important** to prediction.\n",
        "- We Trained the final Tree model with the **Top 4 important features** and **Deployed the model** for production on the internet."
      ],
      "id": "Lmp1odVLbMrd"
    }
  ],
  "metadata": {
    "kernelspec": {
      "display_name": "Python 3",
      "language": "python",
      "name": "python3"
    },
    "language_info": {
      "codemirror_mode": {
        "name": "ipython",
        "version": 3
      },
      "file_extension": ".py",
      "mimetype": "text/x-python",
      "name": "python",
      "nbconvert_exporter": "python",
      "pygments_lexer": "ipython3",
      "version": "3.7.6"
    },
    "papermill": {
      "default_parameters": {},
      "duration": 24.993543,
      "end_time": "2021-04-25T14:59:57.880882",
      "environment_variables": {},
      "exception": null,
      "input_path": "__notebook__.ipynb",
      "output_path": "__notebook__.ipynb",
      "parameters": {},
      "start_time": "2021-04-25T14:59:32.887339",
      "version": "2.3.3"
    },
    "colab": {
      "name": "breast-cancer-prediction-using-knn-decision-tree-random-forest.ipynb",
      "provenance": [],
      "collapsed_sections": []
    }
  },
  "nbformat": 4,
  "nbformat_minor": 5
}